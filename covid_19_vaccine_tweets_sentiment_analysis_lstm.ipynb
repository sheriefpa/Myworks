{
  "metadata": {
    "kernelspec": {
      "language": "python",
      "display_name": "Python 3",
      "name": "python3"
    },
    "language_info": {
      "name": "python",
      "version": "3.7.10",
      "mimetype": "text/x-python",
      "codemirror_mode": {
        "name": "ipython",
        "version": 3
      },
      "pygments_lexer": "ipython3",
      "nbconvert_exporter": "python",
      "file_extension": ".py"
    },
    "colab": {
      "name": "covid-19-vaccine-tweets-sentiment-analysis-lstm.ipynb",
      "provenance": [],
      "include_colab_link": true
    }
  },
  "nbformat_minor": 0,
  "nbformat": 4,
  "cells": [
    {
      "cell_type": "markdown",
      "metadata": {
        "id": "view-in-github",
        "colab_type": "text"
      },
      "source": [
        "<a href=\"https://colab.research.google.com/github/sheriefpa/Myworks/blob/main/covid_19_vaccine_tweets_sentiment_analysis_lstm.ipynb\" target=\"_parent\"><img src=\"https://colab.research.google.com/assets/colab-badge.svg\" alt=\"Open In Colab\"/></a>"
      ]
    },
    {
      "cell_type": "markdown",
      "source": [
        "# <center><span style=\"font-family:cursive;\"> 🦠Covid-19 Vaccine tweets sentiment analysis🙂😐🙁 </span></center>\n",
        "\n",
        "\n",
        "\n",
        "<center><img src=\"https://static.toiimg.com/thumb/77928564.cms?width=680&height=512&imgsize=126320\" width=\"600\";  height:\"100\"></center>\n"
      ],
      "metadata": {
        "id": "iIdgIPYPWYpv"
      }
    },
    {
      "cell_type": "code",
      "source": [
        "import warnings\n",
        "warnings.filterwarnings('ignore')\n"
      ],
      "metadata": {
        "execution": {
          "iopub.status.busy": "2021-07-16T13:40:16.909369Z",
          "iopub.execute_input": "2021-07-16T13:40:16.909971Z",
          "iopub.status.idle": "2021-07-16T13:40:16.914973Z",
          "shell.execute_reply.started": "2021-07-16T13:40:16.909928Z",
          "shell.execute_reply": "2021-07-16T13:40:16.914232Z"
        },
        "trusted": true,
        "id": "Uz2PQ2KYWYp1"
      },
      "execution_count": 10,
      "outputs": []
    },
    {
      "cell_type": "code",
      "source": [
        "import numpy as np\n",
        "import spacy\n",
        "import torchtext\n",
        "import pandas as pd\n",
        "import torch\n",
        "import torch.nn as nn\n",
        "import torch.optim as optim\n",
        "from torchtext.legacy import data\n",
        "import torch.nn.functional as F\n",
        "import gc\n",
        "\n",
        "\n",
        "import matplotlib.pyplot as plt\n",
        "import glob\n",
        "import plotly.express as px\n",
        "import warnings\n",
        "import plotly as py\n",
        "import plotly.graph_objs as go\n",
        "\n",
        "import string\n",
        "import re\n"
      ],
      "metadata": {
        "execution": {
          "iopub.status.busy": "2021-07-16T13:40:16.916978Z",
          "iopub.execute_input": "2021-07-16T13:40:16.917503Z",
          "iopub.status.idle": "2021-07-16T13:40:29.568545Z",
          "shell.execute_reply.started": "2021-07-16T13:40:16.917471Z",
          "shell.execute_reply": "2021-07-16T13:40:29.567666Z"
        },
        "trusted": true,
        "id": "jhE3ZywPWYp2"
      },
      "execution_count": 9,
      "outputs": []
    },
    {
      "cell_type": "code",
      "source": [
        "!pip install torchtext==0.9.1"
      ],
      "metadata": {
        "execution": {
          "iopub.status.busy": "2021-07-16T13:38:51.266094Z",
          "iopub.execute_input": "2021-07-16T13:38:51.266850Z",
          "iopub.status.idle": "2021-07-16T13:40:16.906683Z",
          "shell.execute_reply.started": "2021-07-16T13:38:51.266754Z",
          "shell.execute_reply": "2021-07-16T13:40:16.905201Z"
        },
        "trusted": true,
        "colab": {
          "base_uri": "https://localhost:8080/"
        },
        "id": "DEDRKXodWYpz",
        "outputId": "65d2494f-b127-4167-d737-f09c8ba8adb0"
      },
      "execution_count": 1,
      "outputs": [
        {
          "output_type": "stream",
          "name": "stdout",
          "text": [
            "Collecting torchtext==0.9.1\n",
            "  Downloading torchtext-0.9.1-cp37-cp37m-manylinux1_x86_64.whl (7.1 MB)\n",
            "\u001b[K     |████████████████████████████████| 7.1 MB 24.4 MB/s \n",
            "\u001b[?25hRequirement already satisfied: tqdm in /usr/local/lib/python3.7/dist-packages (from torchtext==0.9.1) (4.64.0)\n",
            "Collecting torch==1.8.1\n",
            "  Downloading torch-1.8.1-cp37-cp37m-manylinux1_x86_64.whl (804.1 MB)\n",
            "\u001b[K     |████████████████████████████████| 804.1 MB 2.2 kB/s \n",
            "\u001b[?25hRequirement already satisfied: requests in /usr/local/lib/python3.7/dist-packages (from torchtext==0.9.1) (2.23.0)\n",
            "Requirement already satisfied: numpy in /usr/local/lib/python3.7/dist-packages (from torchtext==0.9.1) (1.21.6)\n",
            "Requirement already satisfied: typing-extensions in /usr/local/lib/python3.7/dist-packages (from torch==1.8.1->torchtext==0.9.1) (4.2.0)\n",
            "Requirement already satisfied: chardet<4,>=3.0.2 in /usr/local/lib/python3.7/dist-packages (from requests->torchtext==0.9.1) (3.0.4)\n",
            "Requirement already satisfied: idna<3,>=2.5 in /usr/local/lib/python3.7/dist-packages (from requests->torchtext==0.9.1) (2.10)\n",
            "Requirement already satisfied: certifi>=2017.4.17 in /usr/local/lib/python3.7/dist-packages (from requests->torchtext==0.9.1) (2021.10.8)\n",
            "Requirement already satisfied: urllib3!=1.25.0,!=1.25.1,<1.26,>=1.21.1 in /usr/local/lib/python3.7/dist-packages (from requests->torchtext==0.9.1) (1.24.3)\n",
            "Installing collected packages: torch, torchtext\n",
            "  Attempting uninstall: torch\n",
            "    Found existing installation: torch 1.11.0+cu113\n",
            "    Uninstalling torch-1.11.0+cu113:\n",
            "      Successfully uninstalled torch-1.11.0+cu113\n",
            "  Attempting uninstall: torchtext\n",
            "    Found existing installation: torchtext 0.12.0\n",
            "    Uninstalling torchtext-0.12.0:\n",
            "      Successfully uninstalled torchtext-0.12.0\n",
            "\u001b[31mERROR: pip's dependency resolver does not currently take into account all the packages that are installed. This behaviour is the source of the following dependency conflicts.\n",
            "torchvision 0.12.0+cu113 requires torch==1.11.0, but you have torch 1.8.1 which is incompatible.\n",
            "torchaudio 0.11.0+cu113 requires torch==1.11.0, but you have torch 1.8.1 which is incompatible.\u001b[0m\n",
            "Successfully installed torch-1.8.1 torchtext-0.9.1\n"
          ]
        }
      ]
    },
    {
      "cell_type": "markdown",
      "source": [
        "Tokenization using Spacy"
      ],
      "metadata": {
        "id": "v8zcz661tqSy"
      }
    },
    {
      "cell_type": "code",
      "source": [
        "!pip install spacy\n",
        "import spacy"
      ],
      "metadata": {
        "id": "tQ1-u4w_FIoy",
        "outputId": "9f19cbc1-de35-408b-faee-dcca20a6e3e6",
        "colab": {
          "base_uri": "https://localhost:8080/"
        }
      },
      "execution_count": 2,
      "outputs": [
        {
          "output_type": "stream",
          "name": "stdout",
          "text": [
            "Requirement already satisfied: spacy in /usr/local/lib/python3.7/dist-packages (2.2.4)\n",
            "Requirement already satisfied: preshed<3.1.0,>=3.0.2 in /usr/local/lib/python3.7/dist-packages (from spacy) (3.0.6)\n",
            "Requirement already satisfied: requests<3.0.0,>=2.13.0 in /usr/local/lib/python3.7/dist-packages (from spacy) (2.23.0)\n",
            "Requirement already satisfied: cymem<2.1.0,>=2.0.2 in /usr/local/lib/python3.7/dist-packages (from spacy) (2.0.6)\n",
            "Requirement already satisfied: setuptools in /usr/local/lib/python3.7/dist-packages (from spacy) (57.4.0)\n",
            "Requirement already satisfied: blis<0.5.0,>=0.4.0 in /usr/local/lib/python3.7/dist-packages (from spacy) (0.4.1)\n",
            "Requirement already satisfied: murmurhash<1.1.0,>=0.28.0 in /usr/local/lib/python3.7/dist-packages (from spacy) (1.0.7)\n",
            "Requirement already satisfied: srsly<1.1.0,>=1.0.2 in /usr/local/lib/python3.7/dist-packages (from spacy) (1.0.5)\n",
            "Requirement already satisfied: catalogue<1.1.0,>=0.0.7 in /usr/local/lib/python3.7/dist-packages (from spacy) (1.0.0)\n",
            "Requirement already satisfied: numpy>=1.15.0 in /usr/local/lib/python3.7/dist-packages (from spacy) (1.21.6)\n",
            "Requirement already satisfied: tqdm<5.0.0,>=4.38.0 in /usr/local/lib/python3.7/dist-packages (from spacy) (4.64.0)\n",
            "Requirement already satisfied: thinc==7.4.0 in /usr/local/lib/python3.7/dist-packages (from spacy) (7.4.0)\n",
            "Requirement already satisfied: wasabi<1.1.0,>=0.4.0 in /usr/local/lib/python3.7/dist-packages (from spacy) (0.9.1)\n",
            "Requirement already satisfied: plac<1.2.0,>=0.9.6 in /usr/local/lib/python3.7/dist-packages (from spacy) (1.1.3)\n",
            "Requirement already satisfied: importlib-metadata>=0.20 in /usr/local/lib/python3.7/dist-packages (from catalogue<1.1.0,>=0.0.7->spacy) (4.11.3)\n",
            "Requirement already satisfied: typing-extensions>=3.6.4 in /usr/local/lib/python3.7/dist-packages (from importlib-metadata>=0.20->catalogue<1.1.0,>=0.0.7->spacy) (4.2.0)\n",
            "Requirement already satisfied: zipp>=0.5 in /usr/local/lib/python3.7/dist-packages (from importlib-metadata>=0.20->catalogue<1.1.0,>=0.0.7->spacy) (3.8.0)\n",
            "Requirement already satisfied: certifi>=2017.4.17 in /usr/local/lib/python3.7/dist-packages (from requests<3.0.0,>=2.13.0->spacy) (2021.10.8)\n",
            "Requirement already satisfied: urllib3!=1.25.0,!=1.25.1,<1.26,>=1.21.1 in /usr/local/lib/python3.7/dist-packages (from requests<3.0.0,>=2.13.0->spacy) (1.24.3)\n",
            "Requirement already satisfied: chardet<4,>=3.0.2 in /usr/local/lib/python3.7/dist-packages (from requests<3.0.0,>=2.13.0->spacy) (3.0.4)\n",
            "Requirement already satisfied: idna<3,>=2.5 in /usr/local/lib/python3.7/dist-packages (from requests<3.0.0,>=2.13.0->spacy) (2.10)\n"
          ]
        }
      ]
    },
    {
      "cell_type": "code",
      "source": [
        "nlp = spacy.load(name = 'en_core_web_sm')"
      ],
      "metadata": {
        "id": "EbEjCLWNhv5q"
      },
      "execution_count": 3,
      "outputs": []
    },
    {
      "cell_type": "code",
      "source": [
        "!python -m spacy download en_core_web_md\n",
        "import en_core_web_md\n",
        "nlp_1 = en_core_web_md.load()"
      ],
      "metadata": {
        "id": "9Xa0MomyFJ_S",
        "outputId": "536f609c-380e-490b-87a8-5240a05cc06d",
        "colab": {
          "base_uri": "https://localhost:8080/"
        }
      },
      "execution_count": 4,
      "outputs": [
        {
          "output_type": "stream",
          "name": "stdout",
          "text": [
            "Collecting en_core_web_md==2.2.5\n",
            "  Downloading https://github.com/explosion/spacy-models/releases/download/en_core_web_md-2.2.5/en_core_web_md-2.2.5.tar.gz (96.4 MB)\n",
            "\u001b[K     |████████████████████████████████| 96.4 MB 1.2 MB/s \n",
            "\u001b[?25hRequirement already satisfied: spacy>=2.2.2 in /usr/local/lib/python3.7/dist-packages (from en_core_web_md==2.2.5) (2.2.4)\n",
            "Requirement already satisfied: tqdm<5.0.0,>=4.38.0 in /usr/local/lib/python3.7/dist-packages (from spacy>=2.2.2->en_core_web_md==2.2.5) (4.64.0)\n",
            "Requirement already satisfied: setuptools in /usr/local/lib/python3.7/dist-packages (from spacy>=2.2.2->en_core_web_md==2.2.5) (57.4.0)\n",
            "Requirement already satisfied: murmurhash<1.1.0,>=0.28.0 in /usr/local/lib/python3.7/dist-packages (from spacy>=2.2.2->en_core_web_md==2.2.5) (1.0.7)\n",
            "Requirement already satisfied: plac<1.2.0,>=0.9.6 in /usr/local/lib/python3.7/dist-packages (from spacy>=2.2.2->en_core_web_md==2.2.5) (1.1.3)\n",
            "Requirement already satisfied: blis<0.5.0,>=0.4.0 in /usr/local/lib/python3.7/dist-packages (from spacy>=2.2.2->en_core_web_md==2.2.5) (0.4.1)\n",
            "Requirement already satisfied: requests<3.0.0,>=2.13.0 in /usr/local/lib/python3.7/dist-packages (from spacy>=2.2.2->en_core_web_md==2.2.5) (2.23.0)\n",
            "Requirement already satisfied: cymem<2.1.0,>=2.0.2 in /usr/local/lib/python3.7/dist-packages (from spacy>=2.2.2->en_core_web_md==2.2.5) (2.0.6)\n",
            "Requirement already satisfied: preshed<3.1.0,>=3.0.2 in /usr/local/lib/python3.7/dist-packages (from spacy>=2.2.2->en_core_web_md==2.2.5) (3.0.6)\n",
            "Requirement already satisfied: wasabi<1.1.0,>=0.4.0 in /usr/local/lib/python3.7/dist-packages (from spacy>=2.2.2->en_core_web_md==2.2.5) (0.9.1)\n",
            "Requirement already satisfied: srsly<1.1.0,>=1.0.2 in /usr/local/lib/python3.7/dist-packages (from spacy>=2.2.2->en_core_web_md==2.2.5) (1.0.5)\n",
            "Requirement already satisfied: catalogue<1.1.0,>=0.0.7 in /usr/local/lib/python3.7/dist-packages (from spacy>=2.2.2->en_core_web_md==2.2.5) (1.0.0)\n",
            "Requirement already satisfied: numpy>=1.15.0 in /usr/local/lib/python3.7/dist-packages (from spacy>=2.2.2->en_core_web_md==2.2.5) (1.21.6)\n",
            "Requirement already satisfied: thinc==7.4.0 in /usr/local/lib/python3.7/dist-packages (from spacy>=2.2.2->en_core_web_md==2.2.5) (7.4.0)\n",
            "Requirement already satisfied: importlib-metadata>=0.20 in /usr/local/lib/python3.7/dist-packages (from catalogue<1.1.0,>=0.0.7->spacy>=2.2.2->en_core_web_md==2.2.5) (4.11.3)\n",
            "Requirement already satisfied: typing-extensions>=3.6.4 in /usr/local/lib/python3.7/dist-packages (from importlib-metadata>=0.20->catalogue<1.1.0,>=0.0.7->spacy>=2.2.2->en_core_web_md==2.2.5) (4.2.0)\n",
            "Requirement already satisfied: zipp>=0.5 in /usr/local/lib/python3.7/dist-packages (from importlib-metadata>=0.20->catalogue<1.1.0,>=0.0.7->spacy>=2.2.2->en_core_web_md==2.2.5) (3.8.0)\n",
            "Requirement already satisfied: certifi>=2017.4.17 in /usr/local/lib/python3.7/dist-packages (from requests<3.0.0,>=2.13.0->spacy>=2.2.2->en_core_web_md==2.2.5) (2021.10.8)\n",
            "Requirement already satisfied: urllib3!=1.25.0,!=1.25.1,<1.26,>=1.21.1 in /usr/local/lib/python3.7/dist-packages (from requests<3.0.0,>=2.13.0->spacy>=2.2.2->en_core_web_md==2.2.5) (1.24.3)\n",
            "Requirement already satisfied: idna<3,>=2.5 in /usr/local/lib/python3.7/dist-packages (from requests<3.0.0,>=2.13.0->spacy>=2.2.2->en_core_web_md==2.2.5) (2.10)\n",
            "Requirement already satisfied: chardet<4,>=3.0.2 in /usr/local/lib/python3.7/dist-packages (from requests<3.0.0,>=2.13.0->spacy>=2.2.2->en_core_web_md==2.2.5) (3.0.4)\n",
            "Building wheels for collected packages: en-core-web-md\n",
            "  Building wheel for en-core-web-md (setup.py) ... \u001b[?25l\u001b[?25hdone\n",
            "  Created wheel for en-core-web-md: filename=en_core_web_md-2.2.5-py3-none-any.whl size=98051301 sha256=9a69471ba4e54d97105d41f9cbaf2fa7e9028d3a1afa01417be2d149065a1550\n",
            "  Stored in directory: /tmp/pip-ephem-wheel-cache-r35d1424/wheels/69/c5/b8/4f1c029d89238734311b3269762ab2ee325a42da2ce8edb997\n",
            "Successfully built en-core-web-md\n",
            "Installing collected packages: en-core-web-md\n",
            "Successfully installed en-core-web-md-2.2.5\n",
            "\u001b[38;5;2m✔ Download and installation successful\u001b[0m\n",
            "You can now load the model via spacy.load('en_core_web_md')\n"
          ]
        }
      ]
    },
    {
      "cell_type": "code",
      "source": [
        "!pip install emoji\n",
        "\n"
      ],
      "metadata": {
        "id": "l3MgGNHqlQDl",
        "outputId": "79e7db76-22fc-496b-9b88-9f450347f6df",
        "colab": {
          "base_uri": "https://localhost:8080/"
        }
      },
      "execution_count": 11,
      "outputs": [
        {
          "output_type": "stream",
          "name": "stdout",
          "text": [
            "Collecting emoji\n",
            "  Downloading emoji-1.7.0.tar.gz (175 kB)\n",
            "\u001b[?25l\r\u001b[K     |█▉                              | 10 kB 20.6 MB/s eta 0:00:01\r\u001b[K     |███▊                            | 20 kB 24.4 MB/s eta 0:00:01\r\u001b[K     |█████▋                          | 30 kB 30.5 MB/s eta 0:00:01\r\u001b[K     |███████▌                        | 40 kB 29.7 MB/s eta 0:00:01\r\u001b[K     |█████████▍                      | 51 kB 21.6 MB/s eta 0:00:01\r\u001b[K     |███████████▏                    | 61 kB 24.1 MB/s eta 0:00:01\r\u001b[K     |█████████████                   | 71 kB 23.6 MB/s eta 0:00:01\r\u001b[K     |███████████████                 | 81 kB 24.8 MB/s eta 0:00:01\r\u001b[K     |████████████████▉               | 92 kB 27.0 MB/s eta 0:00:01\r\u001b[K     |██████████████████▊             | 102 kB 26.3 MB/s eta 0:00:01\r\u001b[K     |████████████████████▌           | 112 kB 26.3 MB/s eta 0:00:01\r\u001b[K     |██████████████████████▍         | 122 kB 26.3 MB/s eta 0:00:01\r\u001b[K     |████████████████████████▎       | 133 kB 26.3 MB/s eta 0:00:01\r\u001b[K     |██████████████████████████▏     | 143 kB 26.3 MB/s eta 0:00:01\r\u001b[K     |████████████████████████████    | 153 kB 26.3 MB/s eta 0:00:01\r\u001b[K     |█████████████████████████████▉  | 163 kB 26.3 MB/s eta 0:00:01\r\u001b[K     |███████████████████████████████▊| 174 kB 26.3 MB/s eta 0:00:01\r\u001b[K     |████████████████████████████████| 175 kB 26.3 MB/s \n",
            "\u001b[?25hBuilding wheels for collected packages: emoji\n",
            "  Building wheel for emoji (setup.py) ... \u001b[?25l\u001b[?25hdone\n",
            "  Created wheel for emoji: filename=emoji-1.7.0-py3-none-any.whl size=171046 sha256=55dc0517f17cf57fd1e0ae914b146a372a5a784170ff05f7b799e0948ab7735d\n",
            "  Stored in directory: /root/.cache/pip/wheels/8a/4e/b6/57b01db010d17ef6ea9b40300af725ef3e210cb1acfb7ac8b6\n",
            "Successfully built emoji\n",
            "Installing collected packages: emoji\n",
            "Successfully installed emoji-1.7.0\n"
          ]
        }
      ]
    },
    {
      "cell_type": "code",
      "source": [
        "import en_core_web_sm\n",
        "\n",
        "nlp = en_core_web_sm.load()"
      ],
      "metadata": {
        "id": "tdJbVMpefSFW"
      },
      "execution_count": 16,
      "outputs": []
    },
    {
      "cell_type": "code",
      "source": [
        "from google.colab import drive\n",
        "drive.mount('/content/drive')\n",
        "%cd drive/My Drive/Sentiment Analysis\n"
      ],
      "metadata": {
        "colab": {
          "base_uri": "https://localhost:8080/"
        },
        "id": "rII5fgDYXFC_",
        "outputId": "8333b188-7918-45c0-8323-34d1d8d4a77b"
      },
      "execution_count": 12,
      "outputs": [
        {
          "output_type": "stream",
          "name": "stdout",
          "text": [
            "Mounted at /content/drive\n",
            "/content/drive/My Drive/Sentiment Analysis\n"
          ]
        }
      ]
    },
    {
      "cell_type": "code",
      "source": [
        "tweetsDF = pd.read_csv(\"covid-19_vaccine_tweets_with_sentiment.csv\", encoding = \"ISO-8859-1\")"
      ],
      "metadata": {
        "id": "2gPBS4VdgtlS"
      },
      "execution_count": 13,
      "outputs": []
    },
    {
      "cell_type": "code",
      "source": [
        "tweetsDF"
      ],
      "metadata": {
        "id": "TdQmEjlWhUua",
        "outputId": "7f32a9b8-c74c-46e2-f2d9-dc9561ba0d65",
        "colab": {
          "base_uri": "https://localhost:8080/",
          "height": 424
        }
      },
      "execution_count": 14,
      "outputs": [
        {
          "output_type": "execute_result",
          "data": {
            "text/plain": [
              "          tweet_id  label                                         tweet_text\n",
              "0     1.360342e+18      1  4,000 a day dying from the so called Covid-19 ...\n",
              "1     1.382896e+18      2  Pranam message for today manifested in Dhyan b...\n",
              "2     1.375673e+18      2  Hyderabad-based ?@BharatBiotech? has sought fu...\n",
              "3     1.381311e+18      1  Confirmation that Chinese #vaccines \"dont hav...\n",
              "4     1.362166e+18      3  Lab studies suggest #Pfizer, #Moderna vaccines...\n",
              "...            ...    ...                                                ...\n",
              "5995  1.370975e+18      2  @Swamy39 Dr. @Swamy39 jee :\\n\\nMany people lik...\n",
              "5996  1.379827e+18      3  So happy to be fully vaccinated against COVID-...\n",
              "5997  1.384789e+18      2  Serum Institute of India announces cost of Cov...\n",
              "5998  1.382355e+18      1  @___batshitcrazy @BarrowfordHead @Bectully I h...\n",
              "5999  1.380051e+18      2  The smart sympathy attends into the oblong not...\n",
              "\n",
              "[6000 rows x 3 columns]"
            ],
            "text/html": [
              "\n",
              "  <div id=\"df-3689fc0c-886d-4131-a532-7092d6d91734\">\n",
              "    <div class=\"colab-df-container\">\n",
              "      <div>\n",
              "<style scoped>\n",
              "    .dataframe tbody tr th:only-of-type {\n",
              "        vertical-align: middle;\n",
              "    }\n",
              "\n",
              "    .dataframe tbody tr th {\n",
              "        vertical-align: top;\n",
              "    }\n",
              "\n",
              "    .dataframe thead th {\n",
              "        text-align: right;\n",
              "    }\n",
              "</style>\n",
              "<table border=\"1\" class=\"dataframe\">\n",
              "  <thead>\n",
              "    <tr style=\"text-align: right;\">\n",
              "      <th></th>\n",
              "      <th>tweet_id</th>\n",
              "      <th>label</th>\n",
              "      <th>tweet_text</th>\n",
              "    </tr>\n",
              "  </thead>\n",
              "  <tbody>\n",
              "    <tr>\n",
              "      <th>0</th>\n",
              "      <td>1.360342e+18</td>\n",
              "      <td>1</td>\n",
              "      <td>4,000 a day dying from the so called Covid-19 ...</td>\n",
              "    </tr>\n",
              "    <tr>\n",
              "      <th>1</th>\n",
              "      <td>1.382896e+18</td>\n",
              "      <td>2</td>\n",
              "      <td>Pranam message for today manifested in Dhyan b...</td>\n",
              "    </tr>\n",
              "    <tr>\n",
              "      <th>2</th>\n",
              "      <td>1.375673e+18</td>\n",
              "      <td>2</td>\n",
              "      <td>Hyderabad-based ?@BharatBiotech? has sought fu...</td>\n",
              "    </tr>\n",
              "    <tr>\n",
              "      <th>3</th>\n",
              "      <td>1.381311e+18</td>\n",
              "      <td>1</td>\n",
              "      <td>Confirmation that Chinese #vaccines \"dont hav...</td>\n",
              "    </tr>\n",
              "    <tr>\n",
              "      <th>4</th>\n",
              "      <td>1.362166e+18</td>\n",
              "      <td>3</td>\n",
              "      <td>Lab studies suggest #Pfizer, #Moderna vaccines...</td>\n",
              "    </tr>\n",
              "    <tr>\n",
              "      <th>...</th>\n",
              "      <td>...</td>\n",
              "      <td>...</td>\n",
              "      <td>...</td>\n",
              "    </tr>\n",
              "    <tr>\n",
              "      <th>5995</th>\n",
              "      <td>1.370975e+18</td>\n",
              "      <td>2</td>\n",
              "      <td>@Swamy39 Dr. @Swamy39 jee :\\n\\nMany people lik...</td>\n",
              "    </tr>\n",
              "    <tr>\n",
              "      <th>5996</th>\n",
              "      <td>1.379827e+18</td>\n",
              "      <td>3</td>\n",
              "      <td>So happy to be fully vaccinated against COVID-...</td>\n",
              "    </tr>\n",
              "    <tr>\n",
              "      <th>5997</th>\n",
              "      <td>1.384789e+18</td>\n",
              "      <td>2</td>\n",
              "      <td>Serum Institute of India announces cost of Cov...</td>\n",
              "    </tr>\n",
              "    <tr>\n",
              "      <th>5998</th>\n",
              "      <td>1.382355e+18</td>\n",
              "      <td>1</td>\n",
              "      <td>@___batshitcrazy @BarrowfordHead @Bectully I h...</td>\n",
              "    </tr>\n",
              "    <tr>\n",
              "      <th>5999</th>\n",
              "      <td>1.380051e+18</td>\n",
              "      <td>2</td>\n",
              "      <td>The smart sympathy attends into the oblong not...</td>\n",
              "    </tr>\n",
              "  </tbody>\n",
              "</table>\n",
              "<p>6000 rows × 3 columns</p>\n",
              "</div>\n",
              "      <button class=\"colab-df-convert\" onclick=\"convertToInteractive('df-3689fc0c-886d-4131-a532-7092d6d91734')\"\n",
              "              title=\"Convert this dataframe to an interactive table.\"\n",
              "              style=\"display:none;\">\n",
              "        \n",
              "  <svg xmlns=\"http://www.w3.org/2000/svg\" height=\"24px\"viewBox=\"0 0 24 24\"\n",
              "       width=\"24px\">\n",
              "    <path d=\"M0 0h24v24H0V0z\" fill=\"none\"/>\n",
              "    <path d=\"M18.56 5.44l.94 2.06.94-2.06 2.06-.94-2.06-.94-.94-2.06-.94 2.06-2.06.94zm-11 1L8.5 8.5l.94-2.06 2.06-.94-2.06-.94L8.5 2.5l-.94 2.06-2.06.94zm10 10l.94 2.06.94-2.06 2.06-.94-2.06-.94-.94-2.06-.94 2.06-2.06.94z\"/><path d=\"M17.41 7.96l-1.37-1.37c-.4-.4-.92-.59-1.43-.59-.52 0-1.04.2-1.43.59L10.3 9.45l-7.72 7.72c-.78.78-.78 2.05 0 2.83L4 21.41c.39.39.9.59 1.41.59.51 0 1.02-.2 1.41-.59l7.78-7.78 2.81-2.81c.8-.78.8-2.07 0-2.86zM5.41 20L4 18.59l7.72-7.72 1.47 1.35L5.41 20z\"/>\n",
              "  </svg>\n",
              "      </button>\n",
              "      \n",
              "  <style>\n",
              "    .colab-df-container {\n",
              "      display:flex;\n",
              "      flex-wrap:wrap;\n",
              "      gap: 12px;\n",
              "    }\n",
              "\n",
              "    .colab-df-convert {\n",
              "      background-color: #E8F0FE;\n",
              "      border: none;\n",
              "      border-radius: 50%;\n",
              "      cursor: pointer;\n",
              "      display: none;\n",
              "      fill: #1967D2;\n",
              "      height: 32px;\n",
              "      padding: 0 0 0 0;\n",
              "      width: 32px;\n",
              "    }\n",
              "\n",
              "    .colab-df-convert:hover {\n",
              "      background-color: #E2EBFA;\n",
              "      box-shadow: 0px 1px 2px rgba(60, 64, 67, 0.3), 0px 1px 3px 1px rgba(60, 64, 67, 0.15);\n",
              "      fill: #174EA6;\n",
              "    }\n",
              "\n",
              "    [theme=dark] .colab-df-convert {\n",
              "      background-color: #3B4455;\n",
              "      fill: #D2E3FC;\n",
              "    }\n",
              "\n",
              "    [theme=dark] .colab-df-convert:hover {\n",
              "      background-color: #434B5C;\n",
              "      box-shadow: 0px 1px 3px 1px rgba(0, 0, 0, 0.15);\n",
              "      filter: drop-shadow(0px 1px 2px rgba(0, 0, 0, 0.3));\n",
              "      fill: #FFFFFF;\n",
              "    }\n",
              "  </style>\n",
              "\n",
              "      <script>\n",
              "        const buttonEl =\n",
              "          document.querySelector('#df-3689fc0c-886d-4131-a532-7092d6d91734 button.colab-df-convert');\n",
              "        buttonEl.style.display =\n",
              "          google.colab.kernel.accessAllowed ? 'block' : 'none';\n",
              "\n",
              "        async function convertToInteractive(key) {\n",
              "          const element = document.querySelector('#df-3689fc0c-886d-4131-a532-7092d6d91734');\n",
              "          const dataTable =\n",
              "            await google.colab.kernel.invokeFunction('convertToInteractive',\n",
              "                                                     [key], {});\n",
              "          if (!dataTable) return;\n",
              "\n",
              "          const docLinkHtml = 'Like what you see? Visit the ' +\n",
              "            '<a target=\"_blank\" href=https://colab.research.google.com/notebooks/data_table.ipynb>data table notebook</a>'\n",
              "            + ' to learn more about interactive tables.';\n",
              "          element.innerHTML = '';\n",
              "          dataTable['output_type'] = 'display_data';\n",
              "          await google.colab.output.renderOutput(dataTable, element);\n",
              "          const docLink = document.createElement('div');\n",
              "          docLink.innerHTML = docLinkHtml;\n",
              "          element.appendChild(docLink);\n",
              "        }\n",
              "      </script>\n",
              "    </div>\n",
              "  </div>\n",
              "  "
            ]
          },
          "metadata": {},
          "execution_count": 14
        }
      ]
    },
    {
      "cell_type": "code",
      "source": [
        "#tweetsDF[doc1] = nlp(tweetsDF.tweet_text[])\n",
        "tweetsDF['doc1'] = tweetsDF['tweet_text'].apply(nlp)"
      ],
      "metadata": {
        "id": "QjIS40_5ic1K"
      },
      "execution_count": 20,
      "outputs": []
    },
    {
      "cell_type": "code",
      "source": [
        "#!wget kaggle kernels output afiaibnath/covid-19-vaccine-tweets-sentiment-analysis -p /path/to/dest\n"
      ],
      "metadata": {
        "execution": {
          "iopub.status.busy": "2021-07-16T13:40:29.570078Z",
          "iopub.execute_input": "2021-07-16T13:40:29.570611Z",
          "iopub.status.idle": "2021-07-16T13:40:29.648429Z",
          "shell.execute_reply.started": "2021-07-16T13:40:29.570559Z",
          "shell.execute_reply": "2021-07-16T13:40:29.647445Z"
        },
        "trusted": true,
        "id": "3SKFH5CXWYp2"
      },
      "execution_count": 26,
      "outputs": []
    },
    {
      "cell_type": "code",
      "source": [
        "tweetsDF.head()"
      ],
      "metadata": {
        "execution": {
          "iopub.status.busy": "2021-07-16T13:40:29.649790Z",
          "iopub.execute_input": "2021-07-16T13:40:29.650092Z",
          "iopub.status.idle": "2021-07-16T13:40:29.678213Z",
          "shell.execute_reply.started": "2021-07-16T13:40:29.650054Z",
          "shell.execute_reply": "2021-07-16T13:40:29.677258Z"
        },
        "trusted": true,
        "colab": {
          "base_uri": "https://localhost:8080/",
          "height": 206
        },
        "id": "kRrBEhnuWYp3",
        "outputId": "e514f239-7e2e-4c77-c88c-91f3a453fce9"
      },
      "execution_count": 31,
      "outputs": [
        {
          "output_type": "execute_result",
          "data": {
            "text/plain": [
              "       tweet_id  label                                         tweet_text\n",
              "0  1.360342e+18      1  4,000 a day dying from the so called Covid-19 ...\n",
              "1  1.382896e+18      2  Pranam message for today manifested in Dhyan b...\n",
              "2  1.375673e+18      2  Hyderabad-based ?@BharatBiotech? has sought fu...\n",
              "3  1.381311e+18      1  Confirmation that Chinese #vaccines \"dont hav...\n",
              "4  1.362166e+18      3  Lab studies suggest #Pfizer, #Moderna vaccines..."
            ],
            "text/html": [
              "\n",
              "  <div id=\"df-ea0384d4-8b2a-4971-b40d-67a585515a93\">\n",
              "    <div class=\"colab-df-container\">\n",
              "      <div>\n",
              "<style scoped>\n",
              "    .dataframe tbody tr th:only-of-type {\n",
              "        vertical-align: middle;\n",
              "    }\n",
              "\n",
              "    .dataframe tbody tr th {\n",
              "        vertical-align: top;\n",
              "    }\n",
              "\n",
              "    .dataframe thead th {\n",
              "        text-align: right;\n",
              "    }\n",
              "</style>\n",
              "<table border=\"1\" class=\"dataframe\">\n",
              "  <thead>\n",
              "    <tr style=\"text-align: right;\">\n",
              "      <th></th>\n",
              "      <th>tweet_id</th>\n",
              "      <th>label</th>\n",
              "      <th>tweet_text</th>\n",
              "    </tr>\n",
              "  </thead>\n",
              "  <tbody>\n",
              "    <tr>\n",
              "      <th>0</th>\n",
              "      <td>1.360342e+18</td>\n",
              "      <td>1</td>\n",
              "      <td>4,000 a day dying from the so called Covid-19 ...</td>\n",
              "    </tr>\n",
              "    <tr>\n",
              "      <th>1</th>\n",
              "      <td>1.382896e+18</td>\n",
              "      <td>2</td>\n",
              "      <td>Pranam message for today manifested in Dhyan b...</td>\n",
              "    </tr>\n",
              "    <tr>\n",
              "      <th>2</th>\n",
              "      <td>1.375673e+18</td>\n",
              "      <td>2</td>\n",
              "      <td>Hyderabad-based ?@BharatBiotech? has sought fu...</td>\n",
              "    </tr>\n",
              "    <tr>\n",
              "      <th>3</th>\n",
              "      <td>1.381311e+18</td>\n",
              "      <td>1</td>\n",
              "      <td>Confirmation that Chinese #vaccines \"dont hav...</td>\n",
              "    </tr>\n",
              "    <tr>\n",
              "      <th>4</th>\n",
              "      <td>1.362166e+18</td>\n",
              "      <td>3</td>\n",
              "      <td>Lab studies suggest #Pfizer, #Moderna vaccines...</td>\n",
              "    </tr>\n",
              "  </tbody>\n",
              "</table>\n",
              "</div>\n",
              "      <button class=\"colab-df-convert\" onclick=\"convertToInteractive('df-ea0384d4-8b2a-4971-b40d-67a585515a93')\"\n",
              "              title=\"Convert this dataframe to an interactive table.\"\n",
              "              style=\"display:none;\">\n",
              "        \n",
              "  <svg xmlns=\"http://www.w3.org/2000/svg\" height=\"24px\"viewBox=\"0 0 24 24\"\n",
              "       width=\"24px\">\n",
              "    <path d=\"M0 0h24v24H0V0z\" fill=\"none\"/>\n",
              "    <path d=\"M18.56 5.44l.94 2.06.94-2.06 2.06-.94-2.06-.94-.94-2.06-.94 2.06-2.06.94zm-11 1L8.5 8.5l.94-2.06 2.06-.94-2.06-.94L8.5 2.5l-.94 2.06-2.06.94zm10 10l.94 2.06.94-2.06 2.06-.94-2.06-.94-.94-2.06-.94 2.06-2.06.94z\"/><path d=\"M17.41 7.96l-1.37-1.37c-.4-.4-.92-.59-1.43-.59-.52 0-1.04.2-1.43.59L10.3 9.45l-7.72 7.72c-.78.78-.78 2.05 0 2.83L4 21.41c.39.39.9.59 1.41.59.51 0 1.02-.2 1.41-.59l7.78-7.78 2.81-2.81c.8-.78.8-2.07 0-2.86zM5.41 20L4 18.59l7.72-7.72 1.47 1.35L5.41 20z\"/>\n",
              "  </svg>\n",
              "      </button>\n",
              "      \n",
              "  <style>\n",
              "    .colab-df-container {\n",
              "      display:flex;\n",
              "      flex-wrap:wrap;\n",
              "      gap: 12px;\n",
              "    }\n",
              "\n",
              "    .colab-df-convert {\n",
              "      background-color: #E8F0FE;\n",
              "      border: none;\n",
              "      border-radius: 50%;\n",
              "      cursor: pointer;\n",
              "      display: none;\n",
              "      fill: #1967D2;\n",
              "      height: 32px;\n",
              "      padding: 0 0 0 0;\n",
              "      width: 32px;\n",
              "    }\n",
              "\n",
              "    .colab-df-convert:hover {\n",
              "      background-color: #E2EBFA;\n",
              "      box-shadow: 0px 1px 2px rgba(60, 64, 67, 0.3), 0px 1px 3px 1px rgba(60, 64, 67, 0.15);\n",
              "      fill: #174EA6;\n",
              "    }\n",
              "\n",
              "    [theme=dark] .colab-df-convert {\n",
              "      background-color: #3B4455;\n",
              "      fill: #D2E3FC;\n",
              "    }\n",
              "\n",
              "    [theme=dark] .colab-df-convert:hover {\n",
              "      background-color: #434B5C;\n",
              "      box-shadow: 0px 1px 3px 1px rgba(0, 0, 0, 0.15);\n",
              "      filter: drop-shadow(0px 1px 2px rgba(0, 0, 0, 0.3));\n",
              "      fill: #FFFFFF;\n",
              "    }\n",
              "  </style>\n",
              "\n",
              "      <script>\n",
              "        const buttonEl =\n",
              "          document.querySelector('#df-ea0384d4-8b2a-4971-b40d-67a585515a93 button.colab-df-convert');\n",
              "        buttonEl.style.display =\n",
              "          google.colab.kernel.accessAllowed ? 'block' : 'none';\n",
              "\n",
              "        async function convertToInteractive(key) {\n",
              "          const element = document.querySelector('#df-ea0384d4-8b2a-4971-b40d-67a585515a93');\n",
              "          const dataTable =\n",
              "            await google.colab.kernel.invokeFunction('convertToInteractive',\n",
              "                                                     [key], {});\n",
              "          if (!dataTable) return;\n",
              "\n",
              "          const docLinkHtml = 'Like what you see? Visit the ' +\n",
              "            '<a target=\"_blank\" href=https://colab.research.google.com/notebooks/data_table.ipynb>data table notebook</a>'\n",
              "            + ' to learn more about interactive tables.';\n",
              "          element.innerHTML = '';\n",
              "          dataTable['output_type'] = 'display_data';\n",
              "          await google.colab.output.renderOutput(dataTable, element);\n",
              "          const docLink = document.createElement('div');\n",
              "          docLink.innerHTML = docLinkHtml;\n",
              "          element.appendChild(docLink);\n",
              "        }\n",
              "      </script>\n",
              "    </div>\n",
              "  </div>\n",
              "  "
            ]
          },
          "metadata": {},
          "execution_count": 31
        }
      ]
    },
    {
      "cell_type": "code",
      "source": [
        "tweetsDF.info()"
      ],
      "metadata": {
        "execution": {
          "iopub.status.busy": "2021-07-16T13:40:29.681454Z",
          "iopub.execute_input": "2021-07-16T13:40:29.681860Z",
          "iopub.status.idle": "2021-07-16T13:40:29.708452Z",
          "shell.execute_reply.started": "2021-07-16T13:40:29.681819Z",
          "shell.execute_reply": "2021-07-16T13:40:29.707339Z"
        },
        "trusted": true,
        "id": "77IixueGWYp3",
        "outputId": "fda074d3-7dab-4557-eedd-c62f9cb69f11",
        "colab": {
          "base_uri": "https://localhost:8080/"
        }
      },
      "execution_count": 32,
      "outputs": [
        {
          "output_type": "stream",
          "name": "stdout",
          "text": [
            "<class 'pandas.core.frame.DataFrame'>\n",
            "RangeIndex: 6000 entries, 0 to 5999\n",
            "Data columns (total 3 columns):\n",
            " #   Column      Non-Null Count  Dtype  \n",
            "---  ------      --------------  -----  \n",
            " 0   tweet_id    6000 non-null   float64\n",
            " 1   label       6000 non-null   int64  \n",
            " 2   tweet_text  6000 non-null   object \n",
            "dtypes: float64(1), int64(1), object(1)\n",
            "memory usage: 140.8+ KB\n"
          ]
        }
      ]
    },
    {
      "cell_type": "code",
      "source": [
        "labels=tweetsDF.groupby(\"label\").agg({'tweet_text':'count'}).rename(columns={'tweet_text':'tweet_count'}).sort_values(by=\"tweet_count\", ascending=False)"
      ],
      "metadata": {
        "execution": {
          "iopub.status.busy": "2021-07-16T13:40:29.710025Z",
          "iopub.execute_input": "2021-07-16T13:40:29.710443Z",
          "iopub.status.idle": "2021-07-16T13:40:29.728659Z",
          "shell.execute_reply.started": "2021-07-16T13:40:29.710401Z",
          "shell.execute_reply": "2021-07-16T13:40:29.727449Z"
        },
        "trusted": true,
        "id": "HzQHB_OEWYp4"
      },
      "execution_count": 33,
      "outputs": []
    },
    {
      "cell_type": "code",
      "source": [
        "labels"
      ],
      "metadata": {
        "execution": {
          "iopub.status.busy": "2021-07-16T13:40:29.731130Z",
          "iopub.execute_input": "2021-07-16T13:40:29.731441Z",
          "iopub.status.idle": "2021-07-16T13:40:29.741211Z",
          "shell.execute_reply.started": "2021-07-16T13:40:29.731413Z",
          "shell.execute_reply": "2021-07-16T13:40:29.740242Z"
        },
        "trusted": true,
        "id": "AnNl0ZdJWYp4",
        "outputId": "f058a4c3-d2a2-436e-b4cf-38f7b53bc799"
      },
      "execution_count": null,
      "outputs": [
        {
          "execution_count": 8,
          "output_type": "execute_result",
          "data": {
            "text/plain": "       tweet_count\nlabel             \n2             3680\n3             1900\n1              420",
            "text/html": "<div>\n<style scoped>\n    .dataframe tbody tr th:only-of-type {\n        vertical-align: middle;\n    }\n\n    .dataframe tbody tr th {\n        vertical-align: top;\n    }\n\n    .dataframe thead th {\n        text-align: right;\n    }\n</style>\n<table border=\"1\" class=\"dataframe\">\n  <thead>\n    <tr style=\"text-align: right;\">\n      <th></th>\n      <th>tweet_count</th>\n    </tr>\n    <tr>\n      <th>label</th>\n      <th></th>\n    </tr>\n  </thead>\n  <tbody>\n    <tr>\n      <th>2</th>\n      <td>3680</td>\n    </tr>\n    <tr>\n      <th>3</th>\n      <td>1900</td>\n    </tr>\n    <tr>\n      <th>1</th>\n      <td>420</td>\n    </tr>\n  </tbody>\n</table>\n</div>"
          },
          "metadata": {}
        }
      ]
    },
    {
      "cell_type": "markdown",
      "source": [
        "# <center><span style=\"font-family:cursive;\"> There are 3 types of sentiment labels: Negative = 1, neutral = 2, positive = 3  </span></center>\n",
        "Let's visualize frequency of each label"
      ],
      "metadata": {
        "id": "-MO9Y-vNWYp5"
      }
    },
    {
      "cell_type": "code",
      "source": [
        "fig1 = px.bar(labels, x=\"tweet_count\", y=labels.index.astype('str'), orientation='h', hover_data=['tweet_count'],labels={'y':'Labels'}, title='Label Counts')\n",
        "fig1.update_layout(yaxis={'categoryorder':'total ascending'})\n",
        "fig1.show()"
      ],
      "metadata": {
        "execution": {
          "iopub.status.busy": "2021-07-16T13:40:29.743372Z",
          "iopub.execute_input": "2021-07-16T13:40:29.743707Z",
          "iopub.status.idle": "2021-07-16T13:40:30.581281Z",
          "shell.execute_reply.started": "2021-07-16T13:40:29.743657Z",
          "shell.execute_reply": "2021-07-16T13:40:30.580269Z"
        },
        "trusted": true,
        "id": "Ul-AwKjSWYp5",
        "outputId": "8cf33923-f8a8-4ac5-a90c-2ed787321dc8",
        "colab": {
          "base_uri": "https://localhost:8080/",
          "height": 542
        }
      },
      "execution_count": 34,
      "outputs": [
        {
          "output_type": "display_data",
          "data": {
            "text/html": [
              "<html>\n",
              "<head><meta charset=\"utf-8\" /></head>\n",
              "<body>\n",
              "    <div>            <script src=\"https://cdnjs.cloudflare.com/ajax/libs/mathjax/2.7.5/MathJax.js?config=TeX-AMS-MML_SVG\"></script><script type=\"text/javascript\">if (window.MathJax) {MathJax.Hub.Config({SVG: {font: \"STIX-Web\"}});}</script>                <script type=\"text/javascript\">window.PlotlyConfig = {MathJaxConfig: 'local'};</script>\n",
              "        <script src=\"https://cdn.plot.ly/plotly-2.8.3.min.js\"></script>                <div id=\"6cd2735c-24bc-4842-8ca8-9bb531f2675a\" class=\"plotly-graph-div\" style=\"height:525px; width:100%;\"></div>            <script type=\"text/javascript\">                                    window.PLOTLYENV=window.PLOTLYENV || {};                                    if (document.getElementById(\"6cd2735c-24bc-4842-8ca8-9bb531f2675a\")) {                    Plotly.newPlot(                        \"6cd2735c-24bc-4842-8ca8-9bb531f2675a\",                        [{\"alignmentgroup\":\"True\",\"hovertemplate\":\"tweet_count=%{x}<br>Labels=%{y}<extra></extra>\",\"legendgroup\":\"\",\"marker\":{\"color\":\"#636efa\",\"pattern\":{\"shape\":\"\"}},\"name\":\"\",\"offsetgroup\":\"\",\"orientation\":\"h\",\"showlegend\":false,\"textposition\":\"auto\",\"x\":[3680,1900,420],\"xaxis\":\"x\",\"y\":[\"2\",\"3\",\"1\"],\"yaxis\":\"y\",\"type\":\"bar\"}],                        {\"template\":{\"data\":{\"bar\":[{\"error_x\":{\"color\":\"#2a3f5f\"},\"error_y\":{\"color\":\"#2a3f5f\"},\"marker\":{\"line\":{\"color\":\"#E5ECF6\",\"width\":0.5},\"pattern\":{\"fillmode\":\"overlay\",\"size\":10,\"solidity\":0.2}},\"type\":\"bar\"}],\"barpolar\":[{\"marker\":{\"line\":{\"color\":\"#E5ECF6\",\"width\":0.5},\"pattern\":{\"fillmode\":\"overlay\",\"size\":10,\"solidity\":0.2}},\"type\":\"barpolar\"}],\"carpet\":[{\"aaxis\":{\"endlinecolor\":\"#2a3f5f\",\"gridcolor\":\"white\",\"linecolor\":\"white\",\"minorgridcolor\":\"white\",\"startlinecolor\":\"#2a3f5f\"},\"baxis\":{\"endlinecolor\":\"#2a3f5f\",\"gridcolor\":\"white\",\"linecolor\":\"white\",\"minorgridcolor\":\"white\",\"startlinecolor\":\"#2a3f5f\"},\"type\":\"carpet\"}],\"choropleth\":[{\"colorbar\":{\"outlinewidth\":0,\"ticks\":\"\"},\"type\":\"choropleth\"}],\"contour\":[{\"colorbar\":{\"outlinewidth\":0,\"ticks\":\"\"},\"colorscale\":[[0.0,\"#0d0887\"],[0.1111111111111111,\"#46039f\"],[0.2222222222222222,\"#7201a8\"],[0.3333333333333333,\"#9c179e\"],[0.4444444444444444,\"#bd3786\"],[0.5555555555555556,\"#d8576b\"],[0.6666666666666666,\"#ed7953\"],[0.7777777777777778,\"#fb9f3a\"],[0.8888888888888888,\"#fdca26\"],[1.0,\"#f0f921\"]],\"type\":\"contour\"}],\"contourcarpet\":[{\"colorbar\":{\"outlinewidth\":0,\"ticks\":\"\"},\"type\":\"contourcarpet\"}],\"heatmap\":[{\"colorbar\":{\"outlinewidth\":0,\"ticks\":\"\"},\"colorscale\":[[0.0,\"#0d0887\"],[0.1111111111111111,\"#46039f\"],[0.2222222222222222,\"#7201a8\"],[0.3333333333333333,\"#9c179e\"],[0.4444444444444444,\"#bd3786\"],[0.5555555555555556,\"#d8576b\"],[0.6666666666666666,\"#ed7953\"],[0.7777777777777778,\"#fb9f3a\"],[0.8888888888888888,\"#fdca26\"],[1.0,\"#f0f921\"]],\"type\":\"heatmap\"}],\"heatmapgl\":[{\"colorbar\":{\"outlinewidth\":0,\"ticks\":\"\"},\"colorscale\":[[0.0,\"#0d0887\"],[0.1111111111111111,\"#46039f\"],[0.2222222222222222,\"#7201a8\"],[0.3333333333333333,\"#9c179e\"],[0.4444444444444444,\"#bd3786\"],[0.5555555555555556,\"#d8576b\"],[0.6666666666666666,\"#ed7953\"],[0.7777777777777778,\"#fb9f3a\"],[0.8888888888888888,\"#fdca26\"],[1.0,\"#f0f921\"]],\"type\":\"heatmapgl\"}],\"histogram\":[{\"marker\":{\"pattern\":{\"fillmode\":\"overlay\",\"size\":10,\"solidity\":0.2}},\"type\":\"histogram\"}],\"histogram2d\":[{\"colorbar\":{\"outlinewidth\":0,\"ticks\":\"\"},\"colorscale\":[[0.0,\"#0d0887\"],[0.1111111111111111,\"#46039f\"],[0.2222222222222222,\"#7201a8\"],[0.3333333333333333,\"#9c179e\"],[0.4444444444444444,\"#bd3786\"],[0.5555555555555556,\"#d8576b\"],[0.6666666666666666,\"#ed7953\"],[0.7777777777777778,\"#fb9f3a\"],[0.8888888888888888,\"#fdca26\"],[1.0,\"#f0f921\"]],\"type\":\"histogram2d\"}],\"histogram2dcontour\":[{\"colorbar\":{\"outlinewidth\":0,\"ticks\":\"\"},\"colorscale\":[[0.0,\"#0d0887\"],[0.1111111111111111,\"#46039f\"],[0.2222222222222222,\"#7201a8\"],[0.3333333333333333,\"#9c179e\"],[0.4444444444444444,\"#bd3786\"],[0.5555555555555556,\"#d8576b\"],[0.6666666666666666,\"#ed7953\"],[0.7777777777777778,\"#fb9f3a\"],[0.8888888888888888,\"#fdca26\"],[1.0,\"#f0f921\"]],\"type\":\"histogram2dcontour\"}],\"mesh3d\":[{\"colorbar\":{\"outlinewidth\":0,\"ticks\":\"\"},\"type\":\"mesh3d\"}],\"parcoords\":[{\"line\":{\"colorbar\":{\"outlinewidth\":0,\"ticks\":\"\"}},\"type\":\"parcoords\"}],\"pie\":[{\"automargin\":true,\"type\":\"pie\"}],\"scatter\":[{\"marker\":{\"colorbar\":{\"outlinewidth\":0,\"ticks\":\"\"}},\"type\":\"scatter\"}],\"scatter3d\":[{\"line\":{\"colorbar\":{\"outlinewidth\":0,\"ticks\":\"\"}},\"marker\":{\"colorbar\":{\"outlinewidth\":0,\"ticks\":\"\"}},\"type\":\"scatter3d\"}],\"scattercarpet\":[{\"marker\":{\"colorbar\":{\"outlinewidth\":0,\"ticks\":\"\"}},\"type\":\"scattercarpet\"}],\"scattergeo\":[{\"marker\":{\"colorbar\":{\"outlinewidth\":0,\"ticks\":\"\"}},\"type\":\"scattergeo\"}],\"scattergl\":[{\"marker\":{\"colorbar\":{\"outlinewidth\":0,\"ticks\":\"\"}},\"type\":\"scattergl\"}],\"scattermapbox\":[{\"marker\":{\"colorbar\":{\"outlinewidth\":0,\"ticks\":\"\"}},\"type\":\"scattermapbox\"}],\"scatterpolar\":[{\"marker\":{\"colorbar\":{\"outlinewidth\":0,\"ticks\":\"\"}},\"type\":\"scatterpolar\"}],\"scatterpolargl\":[{\"marker\":{\"colorbar\":{\"outlinewidth\":0,\"ticks\":\"\"}},\"type\":\"scatterpolargl\"}],\"scatterternary\":[{\"marker\":{\"colorbar\":{\"outlinewidth\":0,\"ticks\":\"\"}},\"type\":\"scatterternary\"}],\"surface\":[{\"colorbar\":{\"outlinewidth\":0,\"ticks\":\"\"},\"colorscale\":[[0.0,\"#0d0887\"],[0.1111111111111111,\"#46039f\"],[0.2222222222222222,\"#7201a8\"],[0.3333333333333333,\"#9c179e\"],[0.4444444444444444,\"#bd3786\"],[0.5555555555555556,\"#d8576b\"],[0.6666666666666666,\"#ed7953\"],[0.7777777777777778,\"#fb9f3a\"],[0.8888888888888888,\"#fdca26\"],[1.0,\"#f0f921\"]],\"type\":\"surface\"}],\"table\":[{\"cells\":{\"fill\":{\"color\":\"#EBF0F8\"},\"line\":{\"color\":\"white\"}},\"header\":{\"fill\":{\"color\":\"#C8D4E3\"},\"line\":{\"color\":\"white\"}},\"type\":\"table\"}]},\"layout\":{\"annotationdefaults\":{\"arrowcolor\":\"#2a3f5f\",\"arrowhead\":0,\"arrowwidth\":1},\"autotypenumbers\":\"strict\",\"coloraxis\":{\"colorbar\":{\"outlinewidth\":0,\"ticks\":\"\"}},\"colorscale\":{\"diverging\":[[0,\"#8e0152\"],[0.1,\"#c51b7d\"],[0.2,\"#de77ae\"],[0.3,\"#f1b6da\"],[0.4,\"#fde0ef\"],[0.5,\"#f7f7f7\"],[0.6,\"#e6f5d0\"],[0.7,\"#b8e186\"],[0.8,\"#7fbc41\"],[0.9,\"#4d9221\"],[1,\"#276419\"]],\"sequential\":[[0.0,\"#0d0887\"],[0.1111111111111111,\"#46039f\"],[0.2222222222222222,\"#7201a8\"],[0.3333333333333333,\"#9c179e\"],[0.4444444444444444,\"#bd3786\"],[0.5555555555555556,\"#d8576b\"],[0.6666666666666666,\"#ed7953\"],[0.7777777777777778,\"#fb9f3a\"],[0.8888888888888888,\"#fdca26\"],[1.0,\"#f0f921\"]],\"sequentialminus\":[[0.0,\"#0d0887\"],[0.1111111111111111,\"#46039f\"],[0.2222222222222222,\"#7201a8\"],[0.3333333333333333,\"#9c179e\"],[0.4444444444444444,\"#bd3786\"],[0.5555555555555556,\"#d8576b\"],[0.6666666666666666,\"#ed7953\"],[0.7777777777777778,\"#fb9f3a\"],[0.8888888888888888,\"#fdca26\"],[1.0,\"#f0f921\"]]},\"colorway\":[\"#636efa\",\"#EF553B\",\"#00cc96\",\"#ab63fa\",\"#FFA15A\",\"#19d3f3\",\"#FF6692\",\"#B6E880\",\"#FF97FF\",\"#FECB52\"],\"font\":{\"color\":\"#2a3f5f\"},\"geo\":{\"bgcolor\":\"white\",\"lakecolor\":\"white\",\"landcolor\":\"#E5ECF6\",\"showlakes\":true,\"showland\":true,\"subunitcolor\":\"white\"},\"hoverlabel\":{\"align\":\"left\"},\"hovermode\":\"closest\",\"mapbox\":{\"style\":\"light\"},\"paper_bgcolor\":\"white\",\"plot_bgcolor\":\"#E5ECF6\",\"polar\":{\"angularaxis\":{\"gridcolor\":\"white\",\"linecolor\":\"white\",\"ticks\":\"\"},\"bgcolor\":\"#E5ECF6\",\"radialaxis\":{\"gridcolor\":\"white\",\"linecolor\":\"white\",\"ticks\":\"\"}},\"scene\":{\"xaxis\":{\"backgroundcolor\":\"#E5ECF6\",\"gridcolor\":\"white\",\"gridwidth\":2,\"linecolor\":\"white\",\"showbackground\":true,\"ticks\":\"\",\"zerolinecolor\":\"white\"},\"yaxis\":{\"backgroundcolor\":\"#E5ECF6\",\"gridcolor\":\"white\",\"gridwidth\":2,\"linecolor\":\"white\",\"showbackground\":true,\"ticks\":\"\",\"zerolinecolor\":\"white\"},\"zaxis\":{\"backgroundcolor\":\"#E5ECF6\",\"gridcolor\":\"white\",\"gridwidth\":2,\"linecolor\":\"white\",\"showbackground\":true,\"ticks\":\"\",\"zerolinecolor\":\"white\"}},\"shapedefaults\":{\"line\":{\"color\":\"#2a3f5f\"}},\"ternary\":{\"aaxis\":{\"gridcolor\":\"white\",\"linecolor\":\"white\",\"ticks\":\"\"},\"baxis\":{\"gridcolor\":\"white\",\"linecolor\":\"white\",\"ticks\":\"\"},\"bgcolor\":\"#E5ECF6\",\"caxis\":{\"gridcolor\":\"white\",\"linecolor\":\"white\",\"ticks\":\"\"}},\"title\":{\"x\":0.05},\"xaxis\":{\"automargin\":true,\"gridcolor\":\"white\",\"linecolor\":\"white\",\"ticks\":\"\",\"title\":{\"standoff\":15},\"zerolinecolor\":\"white\",\"zerolinewidth\":2},\"yaxis\":{\"automargin\":true,\"gridcolor\":\"white\",\"linecolor\":\"white\",\"ticks\":\"\",\"title\":{\"standoff\":15},\"zerolinecolor\":\"white\",\"zerolinewidth\":2}}},\"xaxis\":{\"anchor\":\"y\",\"domain\":[0.0,1.0],\"title\":{\"text\":\"tweet_count\"}},\"yaxis\":{\"anchor\":\"x\",\"domain\":[0.0,1.0],\"title\":{\"text\":\"Labels\"},\"categoryorder\":\"total ascending\"},\"legend\":{\"tracegroupgap\":0},\"title\":{\"text\":\"Label Counts\"},\"barmode\":\"relative\"},                        {\"responsive\": true}                    ).then(function(){\n",
              "                            \n",
              "var gd = document.getElementById('6cd2735c-24bc-4842-8ca8-9bb531f2675a');\n",
              "var x = new MutationObserver(function (mutations, observer) {{\n",
              "        var display = window.getComputedStyle(gd).display;\n",
              "        if (!display || display === 'none') {{\n",
              "            console.log([gd, 'removed!']);\n",
              "            Plotly.purge(gd);\n",
              "            observer.disconnect();\n",
              "        }}\n",
              "}});\n",
              "\n",
              "// Listen for the removal of the full notebook cells\n",
              "var notebookContainer = gd.closest('#notebook-container');\n",
              "if (notebookContainer) {{\n",
              "    x.observe(notebookContainer, {childList: true});\n",
              "}}\n",
              "\n",
              "// Listen for the clearing of the current output cell\n",
              "var outputEl = gd.closest('.output');\n",
              "if (outputEl) {{\n",
              "    x.observe(outputEl, {childList: true});\n",
              "}}\n",
              "\n",
              "                        })                };                            </script>        </div>\n",
              "</body>\n",
              "</html>"
            ]
          },
          "metadata": {}
        }
      ]
    },
    {
      "cell_type": "markdown",
      "source": [
        "# <center><span style=\"font-family:cursive;\"> Raw tweet text need some preprocessing.Below functions are used for various preprocessing. </span></center>"
      ],
      "metadata": {
        "id": "0HR6Y9qzWYp6"
      }
    },
    {
      "cell_type": "code",
      "source": [
        "def removeStopwords(text):\n",
        "    doc = nlp(text)\n",
        "    clean_text = ' '\n",
        "    for txt in doc:\n",
        "        if (txt.is_stop == False):\n",
        "            clean_text = clean_text + \" \" + str(txt)        \n",
        "    return clean_text\n",
        "\n",
        "def removePunctuations(text):\n",
        "    return text.translate(str.maketrans('', '', string.punctuation)).replace(\" s \", \" \")\n",
        "\n",
        "def removeLinks(text):\n",
        "    clean_text = re.sub('https?://\\S+|www\\.\\S+', '', text)\n",
        "    return clean_text\n",
        "\n",
        "def removeNumbers(text):\n",
        "    clean_text = re.sub(r'\\d+', '', text)\n",
        "    return clean_text\n",
        "def removenewline(text):\n",
        "    clean_text = re.sub(r'(\\n+)', '', text)\n",
        "    return clean_text\n",
        "\n",
        "\n",
        "import emoji\n",
        "#does the text contain an emoji?\n",
        "def text_has_emoji(text):\n",
        "    for character in text:\n",
        "        if character in emoji.UNICODE_EMOJI:\n",
        "            return True\n",
        "    return False\n",
        "#remove the emoji\n",
        "def deEmojify(inputString):\n",
        "    return inputString.encode('ascii', 'ignore').decode('ascii')"
      ],
      "metadata": {
        "execution": {
          "iopub.status.busy": "2021-07-16T13:40:30.582921Z",
          "iopub.execute_input": "2021-07-16T13:40:30.583364Z",
          "iopub.status.idle": "2021-07-16T13:40:30.614502Z",
          "shell.execute_reply.started": "2021-07-16T13:40:30.583321Z",
          "shell.execute_reply": "2021-07-16T13:40:30.613546Z"
        },
        "trusted": true,
        "id": "leSynIkPWYp6"
      },
      "execution_count": 39,
      "outputs": []
    },
    {
      "cell_type": "code",
      "source": [
        "def clean(text):\n",
        "    if text_has_emoji(text):\n",
        "        text=deEmojify(text)\n",
        "    text = text.lower()\n",
        "    text =removenewline(text)\n",
        "    text = removeStopwords(text)\n",
        "    text = removePunctuations(text)\n",
        "    text = removeNumbers(text)\n",
        "    text = removeLinks(text)\n",
        "    return text"
      ],
      "metadata": {
        "execution": {
          "iopub.status.busy": "2021-07-16T13:40:30.616101Z",
          "iopub.execute_input": "2021-07-16T13:40:30.616533Z",
          "iopub.status.idle": "2021-07-16T13:40:30.623015Z",
          "shell.execute_reply.started": "2021-07-16T13:40:30.616491Z",
          "shell.execute_reply": "2021-07-16T13:40:30.621754Z"
        },
        "trusted": true,
        "id": "3zVSdZlZWYp7"
      },
      "execution_count": 40,
      "outputs": []
    },
    {
      "cell_type": "code",
      "source": [
        "tweetsDF['text_clean'] = tweetsDF['tweet_text'].apply(clean)\n",
        "tweetsDF['label'] = tweetsDF['label'].map({1:0, 2:1, 3:2})# renumbering labels to avoid error in the one hot encoding process\n",
        "tweetsDF.drop(\"tweet_text\",axis=1).to_csv('mycsvfile.csv',index=False)"
      ],
      "metadata": {
        "execution": {
          "iopub.status.busy": "2021-07-16T13:40:30.624834Z",
          "iopub.execute_input": "2021-07-16T13:40:30.625425Z",
          "iopub.status.idle": "2021-07-16T13:41:49.107774Z",
          "shell.execute_reply.started": "2021-07-16T13:40:30.625371Z",
          "shell.execute_reply": "2021-07-16T13:41:49.106711Z"
        },
        "trusted": true,
        "id": "szJwbH4iWYp7"
      },
      "execution_count": 41,
      "outputs": []
    },
    {
      "cell_type": "code",
      "source": [
        "tweetsDF.head()"
      ],
      "metadata": {
        "id": "TJKDjWeGo7je",
        "outputId": "bf07bf82-425b-4128-face-b5e64f460e4d",
        "colab": {
          "base_uri": "https://localhost:8080/",
          "height": 250
        }
      },
      "execution_count": 42,
      "outputs": [
        {
          "output_type": "execute_result",
          "data": {
            "text/plain": [
              "       tweet_id  label                                         tweet_text  \\\n",
              "0  1.360342e+18      0  4,000 a day dying from the so called Covid-19 ...   \n",
              "1  1.382896e+18      1  Pranam message for today manifested in Dhyan b...   \n",
              "2  1.375673e+18      1  Hyderabad-based ?@BharatBiotech? has sought fu...   \n",
              "3  1.381311e+18      0  Confirmation that Chinese #vaccines \"dont hav...   \n",
              "4  1.362166e+18      2  Lab studies suggest #Pfizer, #Moderna vaccines...   \n",
              "\n",
              "                                          text_clean  \n",
              "0     day dying called covid vaccine dailybeast...  \n",
              "1    pranam message today manifested dhyan meenap...  \n",
              "2    hyderabad  based  bharatbiotech  sought fund...  \n",
              "3    confirmation chinese  vaccines  dont high p...  \n",
              "4    lab studies suggest  pfizer   moderna vaccin...  "
            ],
            "text/html": [
              "\n",
              "  <div id=\"df-a71bb70a-57b2-4d86-85d8-ac10f0cb5473\">\n",
              "    <div class=\"colab-df-container\">\n",
              "      <div>\n",
              "<style scoped>\n",
              "    .dataframe tbody tr th:only-of-type {\n",
              "        vertical-align: middle;\n",
              "    }\n",
              "\n",
              "    .dataframe tbody tr th {\n",
              "        vertical-align: top;\n",
              "    }\n",
              "\n",
              "    .dataframe thead th {\n",
              "        text-align: right;\n",
              "    }\n",
              "</style>\n",
              "<table border=\"1\" class=\"dataframe\">\n",
              "  <thead>\n",
              "    <tr style=\"text-align: right;\">\n",
              "      <th></th>\n",
              "      <th>tweet_id</th>\n",
              "      <th>label</th>\n",
              "      <th>tweet_text</th>\n",
              "      <th>text_clean</th>\n",
              "    </tr>\n",
              "  </thead>\n",
              "  <tbody>\n",
              "    <tr>\n",
              "      <th>0</th>\n",
              "      <td>1.360342e+18</td>\n",
              "      <td>0</td>\n",
              "      <td>4,000 a day dying from the so called Covid-19 ...</td>\n",
              "      <td>day dying called covid vaccine dailybeast...</td>\n",
              "    </tr>\n",
              "    <tr>\n",
              "      <th>1</th>\n",
              "      <td>1.382896e+18</td>\n",
              "      <td>1</td>\n",
              "      <td>Pranam message for today manifested in Dhyan b...</td>\n",
              "      <td>pranam message today manifested dhyan meenap...</td>\n",
              "    </tr>\n",
              "    <tr>\n",
              "      <th>2</th>\n",
              "      <td>1.375673e+18</td>\n",
              "      <td>1</td>\n",
              "      <td>Hyderabad-based ?@BharatBiotech? has sought fu...</td>\n",
              "      <td>hyderabad  based  bharatbiotech  sought fund...</td>\n",
              "    </tr>\n",
              "    <tr>\n",
              "      <th>3</th>\n",
              "      <td>1.381311e+18</td>\n",
              "      <td>0</td>\n",
              "      <td>Confirmation that Chinese #vaccines \"dont hav...</td>\n",
              "      <td>confirmation chinese  vaccines  dont high p...</td>\n",
              "    </tr>\n",
              "    <tr>\n",
              "      <th>4</th>\n",
              "      <td>1.362166e+18</td>\n",
              "      <td>2</td>\n",
              "      <td>Lab studies suggest #Pfizer, #Moderna vaccines...</td>\n",
              "      <td>lab studies suggest  pfizer   moderna vaccin...</td>\n",
              "    </tr>\n",
              "  </tbody>\n",
              "</table>\n",
              "</div>\n",
              "      <button class=\"colab-df-convert\" onclick=\"convertToInteractive('df-a71bb70a-57b2-4d86-85d8-ac10f0cb5473')\"\n",
              "              title=\"Convert this dataframe to an interactive table.\"\n",
              "              style=\"display:none;\">\n",
              "        \n",
              "  <svg xmlns=\"http://www.w3.org/2000/svg\" height=\"24px\"viewBox=\"0 0 24 24\"\n",
              "       width=\"24px\">\n",
              "    <path d=\"M0 0h24v24H0V0z\" fill=\"none\"/>\n",
              "    <path d=\"M18.56 5.44l.94 2.06.94-2.06 2.06-.94-2.06-.94-.94-2.06-.94 2.06-2.06.94zm-11 1L8.5 8.5l.94-2.06 2.06-.94-2.06-.94L8.5 2.5l-.94 2.06-2.06.94zm10 10l.94 2.06.94-2.06 2.06-.94-2.06-.94-.94-2.06-.94 2.06-2.06.94z\"/><path d=\"M17.41 7.96l-1.37-1.37c-.4-.4-.92-.59-1.43-.59-.52 0-1.04.2-1.43.59L10.3 9.45l-7.72 7.72c-.78.78-.78 2.05 0 2.83L4 21.41c.39.39.9.59 1.41.59.51 0 1.02-.2 1.41-.59l7.78-7.78 2.81-2.81c.8-.78.8-2.07 0-2.86zM5.41 20L4 18.59l7.72-7.72 1.47 1.35L5.41 20z\"/>\n",
              "  </svg>\n",
              "      </button>\n",
              "      \n",
              "  <style>\n",
              "    .colab-df-container {\n",
              "      display:flex;\n",
              "      flex-wrap:wrap;\n",
              "      gap: 12px;\n",
              "    }\n",
              "\n",
              "    .colab-df-convert {\n",
              "      background-color: #E8F0FE;\n",
              "      border: none;\n",
              "      border-radius: 50%;\n",
              "      cursor: pointer;\n",
              "      display: none;\n",
              "      fill: #1967D2;\n",
              "      height: 32px;\n",
              "      padding: 0 0 0 0;\n",
              "      width: 32px;\n",
              "    }\n",
              "\n",
              "    .colab-df-convert:hover {\n",
              "      background-color: #E2EBFA;\n",
              "      box-shadow: 0px 1px 2px rgba(60, 64, 67, 0.3), 0px 1px 3px 1px rgba(60, 64, 67, 0.15);\n",
              "      fill: #174EA6;\n",
              "    }\n",
              "\n",
              "    [theme=dark] .colab-df-convert {\n",
              "      background-color: #3B4455;\n",
              "      fill: #D2E3FC;\n",
              "    }\n",
              "\n",
              "    [theme=dark] .colab-df-convert:hover {\n",
              "      background-color: #434B5C;\n",
              "      box-shadow: 0px 1px 3px 1px rgba(0, 0, 0, 0.15);\n",
              "      filter: drop-shadow(0px 1px 2px rgba(0, 0, 0, 0.3));\n",
              "      fill: #FFFFFF;\n",
              "    }\n",
              "  </style>\n",
              "\n",
              "      <script>\n",
              "        const buttonEl =\n",
              "          document.querySelector('#df-a71bb70a-57b2-4d86-85d8-ac10f0cb5473 button.colab-df-convert');\n",
              "        buttonEl.style.display =\n",
              "          google.colab.kernel.accessAllowed ? 'block' : 'none';\n",
              "\n",
              "        async function convertToInteractive(key) {\n",
              "          const element = document.querySelector('#df-a71bb70a-57b2-4d86-85d8-ac10f0cb5473');\n",
              "          const dataTable =\n",
              "            await google.colab.kernel.invokeFunction('convertToInteractive',\n",
              "                                                     [key], {});\n",
              "          if (!dataTable) return;\n",
              "\n",
              "          const docLinkHtml = 'Like what you see? Visit the ' +\n",
              "            '<a target=\"_blank\" href=https://colab.research.google.com/notebooks/data_table.ipynb>data table notebook</a>'\n",
              "            + ' to learn more about interactive tables.';\n",
              "          element.innerHTML = '';\n",
              "          dataTable['output_type'] = 'display_data';\n",
              "          await google.colab.output.renderOutput(dataTable, element);\n",
              "          const docLink = document.createElement('div');\n",
              "          docLink.innerHTML = docLinkHtml;\n",
              "          element.appendChild(docLink);\n",
              "        }\n",
              "      </script>\n",
              "    </div>\n",
              "  </div>\n",
              "  "
            ]
          },
          "metadata": {},
          "execution_count": 42
        }
      ]
    },
    {
      "cell_type": "code",
      "source": [
        "\n",
        "SEED = 1234\n",
        "\n",
        "torch.manual_seed(SEED)\n",
        "torch.backends.cudnn.deterministic = True\n",
        "\n",
        "TEXT = data.Field(tokenize = 'spacy',\n",
        "                tokenizer_language = 'en_core_web_sm',\n",
        "                 lower = True)\n",
        "\n",
        "LABEL = data.LabelField(dtype=torch.int64)"
      ],
      "metadata": {
        "execution": {
          "iopub.status.busy": "2021-07-16T13:41:49.110350Z",
          "iopub.execute_input": "2021-07-16T13:41:49.110801Z",
          "iopub.status.idle": "2021-07-16T13:41:50.147312Z",
          "shell.execute_reply.started": "2021-07-16T13:41:49.110755Z",
          "shell.execute_reply": "2021-07-16T13:41:50.146503Z"
        },
        "trusted": true,
        "id": "r-aUL1zUWYp7"
      },
      "execution_count": 43,
      "outputs": []
    },
    {
      "cell_type": "code",
      "source": [
        "fields = [(\"tweet_id\",None), ('label',LABEL),('text_clean', TEXT)]"
      ],
      "metadata": {
        "execution": {
          "iopub.status.busy": "2021-07-16T13:41:50.148482Z",
          "iopub.execute_input": "2021-07-16T13:41:50.148923Z",
          "iopub.status.idle": "2021-07-16T13:41:50.152568Z",
          "shell.execute_reply.started": "2021-07-16T13:41:50.148889Z",
          "shell.execute_reply": "2021-07-16T13:41:50.151760Z"
        },
        "trusted": true,
        "id": "0LgMktlDWYp7"
      },
      "execution_count": 44,
      "outputs": []
    },
    {
      "cell_type": "code",
      "source": [
        "twitterDataset = data.dataset.TabularDataset(\n",
        "        path=\"./mycsvfile.csv\", \n",
        "        format=\"CSV\", \n",
        "        fields=fields,\n",
        "        #csv_reader_params={\"quotechar\": None,\"delimiter\":\";\"},\n",
        "        skip_header=True)"
      ],
      "metadata": {
        "execution": {
          "iopub.status.busy": "2021-07-16T13:41:50.153713Z",
          "iopub.execute_input": "2021-07-16T13:41:50.154152Z",
          "iopub.status.idle": "2021-07-16T13:41:52.502514Z",
          "shell.execute_reply.started": "2021-07-16T13:41:50.154107Z",
          "shell.execute_reply": "2021-07-16T13:41:52.501519Z"
        },
        "trusted": true,
        "id": "v6AaavNpWYp8"
      },
      "execution_count": 45,
      "outputs": []
    },
    {
      "cell_type": "code",
      "source": [
        "(train, test, valid) = twitterDataset.split(split_ratio=[0.6,0.2,0.2],\n",
        "                                            stratified=True, strata_field='label')\n",
        "\n",
        "(len(train),len(test),len(valid))"
      ],
      "metadata": {
        "execution": {
          "iopub.status.busy": "2021-07-16T13:41:52.503888Z",
          "iopub.execute_input": "2021-07-16T13:41:52.504319Z",
          "iopub.status.idle": "2021-07-16T13:41:52.525451Z",
          "shell.execute_reply.started": "2021-07-16T13:41:52.504278Z",
          "shell.execute_reply": "2021-07-16T13:41:52.524508Z"
        },
        "trusted": true,
        "id": "gOyrsV1vWYp8",
        "outputId": "b849b0ae-0534-43cc-cb8c-fa3d861889f8",
        "colab": {
          "base_uri": "https://localhost:8080/"
        }
      },
      "execution_count": 46,
      "outputs": [
        {
          "output_type": "execute_result",
          "data": {
            "text/plain": [
              "(3600, 1200, 1200)"
            ]
          },
          "metadata": {},
          "execution_count": 46
        }
      ]
    },
    {
      "cell_type": "code",
      "source": [
        "MAX_VOCAB_SIZE = 14309\n",
        "\n",
        "TEXT.build_vocab(train, max_size = MAX_VOCAB_SIZE)\n",
        "LABEL.build_vocab(train)"
      ],
      "metadata": {
        "execution": {
          "iopub.status.busy": "2021-07-16T13:41:52.526702Z",
          "iopub.execute_input": "2021-07-16T13:41:52.526993Z",
          "iopub.status.idle": "2021-07-16T13:41:52.600565Z",
          "shell.execute_reply.started": "2021-07-16T13:41:52.526965Z",
          "shell.execute_reply": "2021-07-16T13:41:52.599503Z"
        },
        "trusted": true,
        "id": "ghB8X8PGWYp8"
      },
      "execution_count": 47,
      "outputs": []
    },
    {
      "cell_type": "code",
      "source": [
        "TEXT.vocab.freqs.most_common(10)"
      ],
      "metadata": {
        "execution": {
          "iopub.status.busy": "2021-07-16T13:41:52.601954Z",
          "iopub.execute_input": "2021-07-16T13:41:52.602280Z",
          "iopub.status.idle": "2021-07-16T13:41:52.612547Z",
          "shell.execute_reply.started": "2021-07-16T13:41:52.602238Z",
          "shell.execute_reply": "2021-07-16T13:41:52.611641Z"
        },
        "trusted": true,
        "id": "RotGNaVTWYp9",
        "outputId": "6e90c0fc-b5e4-4ac7-f189-f5a88a779570",
        "colab": {
          "base_uri": "https://localhost:8080/"
        }
      },
      "execution_count": 48,
      "outputs": [
        {
          "output_type": "execute_result",
          "data": {
            "text/plain": [
              "[(' ', 17759),\n",
              " ('  ', 5156),\n",
              " ('vaccine', 1796),\n",
              " ('   ', 1511),\n",
              " ('covid', 1449),\n",
              " ('moderna', 1359),\n",
              " ('covaxin', 773),\n",
              " ('sputnikv', 597),\n",
              " ('covidvaccine', 486),\n",
              " ('pfizer', 470)]"
            ]
          },
          "metadata": {},
          "execution_count": 48
        }
      ]
    },
    {
      "cell_type": "code",
      "source": [
        "print(f\"Unique tokens in TEXT vocabulary: {len(TEXT.vocab)}\")\n",
        "print(f\"Unique tokens in LABEL vocabulary: {len(LABEL.vocab)}\")"
      ],
      "metadata": {
        "execution": {
          "iopub.status.busy": "2021-07-16T13:41:52.613785Z",
          "iopub.execute_input": "2021-07-16T13:41:52.614064Z",
          "iopub.status.idle": "2021-07-16T13:41:52.626082Z",
          "shell.execute_reply.started": "2021-07-16T13:41:52.614037Z",
          "shell.execute_reply": "2021-07-16T13:41:52.625252Z"
        },
        "trusted": true,
        "id": "mVKSLAzMWYp9",
        "outputId": "26378595-5b82-437e-8245-047806c30de5",
        "colab": {
          "base_uri": "https://localhost:8080/"
        }
      },
      "execution_count": 49,
      "outputs": [
        {
          "output_type": "stream",
          "name": "stdout",
          "text": [
            "Unique tokens in TEXT vocabulary: 14311\n",
            "Unique tokens in LABEL vocabulary: 3\n"
          ]
        }
      ]
    },
    {
      "cell_type": "code",
      "source": [
        "print(TEXT.vocab.freqs.most_common(20))"
      ],
      "metadata": {
        "execution": {
          "iopub.status.busy": "2021-07-16T13:41:52.627238Z",
          "iopub.execute_input": "2021-07-16T13:41:52.627523Z",
          "iopub.status.idle": "2021-07-16T13:41:52.642021Z",
          "shell.execute_reply.started": "2021-07-16T13:41:52.627496Z",
          "shell.execute_reply": "2021-07-16T13:41:52.641260Z"
        },
        "trusted": true,
        "id": "Rnl9Tl1XWYp9",
        "outputId": "0b73263d-323c-4f2a-db43-976748fdc4bd",
        "colab": {
          "base_uri": "https://localhost:8080/"
        }
      },
      "execution_count": 50,
      "outputs": [
        {
          "output_type": "stream",
          "name": "stdout",
          "text": [
            "[(' ', 17759), ('  ', 5156), ('vaccine', 1796), ('   ', 1511), ('covid', 1449), ('moderna', 1359), ('covaxin', 773), ('sputnikv', 597), ('covidvaccine', 486), ('pfizer', 470), ('dose', 417), ('vaccines', 412), ('pfizerbiontech', 403), ('amp', 338), ('got', 317), ('    ', 299), ('vaccinated', 298), ('shot', 287), ('vaccination', 286), ('doses', 264)]\n"
          ]
        }
      ]
    },
    {
      "cell_type": "code",
      "source": [
        "print(TEXT.vocab.itos[:10])"
      ],
      "metadata": {
        "execution": {
          "iopub.status.busy": "2021-07-16T13:41:52.643062Z",
          "iopub.execute_input": "2021-07-16T13:41:52.643403Z",
          "iopub.status.idle": "2021-07-16T13:41:52.653510Z",
          "shell.execute_reply.started": "2021-07-16T13:41:52.643373Z",
          "shell.execute_reply": "2021-07-16T13:41:52.652568Z"
        },
        "trusted": true,
        "id": "GSXVP71IWYp-",
        "outputId": "9f4e67f0-3534-487a-d00c-dd1e538e7dbd",
        "colab": {
          "base_uri": "https://localhost:8080/"
        }
      },
      "execution_count": 51,
      "outputs": [
        {
          "output_type": "stream",
          "name": "stdout",
          "text": [
            "['<unk>', '<pad>', ' ', '  ', 'vaccine', '   ', 'covid', 'moderna', 'covaxin', 'sputnikv']\n"
          ]
        }
      ]
    },
    {
      "cell_type": "code",
      "source": [
        "print(LABEL.vocab.stoi)"
      ],
      "metadata": {
        "execution": {
          "iopub.status.busy": "2021-07-16T13:41:52.654752Z",
          "iopub.execute_input": "2021-07-16T13:41:52.655044Z",
          "iopub.status.idle": "2021-07-16T13:41:52.664875Z",
          "shell.execute_reply.started": "2021-07-16T13:41:52.655013Z",
          "shell.execute_reply": "2021-07-16T13:41:52.663940Z"
        },
        "trusted": true,
        "id": "CQXjxoSaWYp-",
        "outputId": "1462846d-6d9c-49ac-c240-57aca3dee3ec",
        "colab": {
          "base_uri": "https://localhost:8080/"
        }
      },
      "execution_count": 52,
      "outputs": [
        {
          "output_type": "stream",
          "name": "stdout",
          "text": [
            "defaultdict(None, {'1': 0, '2': 1, '0': 2})\n"
          ]
        }
      ]
    },
    {
      "cell_type": "code",
      "source": [
        "BATCH_SIZE = 64\n",
        "\n",
        "device = torch.device('cuda' if torch.cuda.is_available() else 'cpu')\n",
        "\n",
        "train_iterator, valid_iterator, test_iterator = data.BucketIterator.splits(\n",
        "    (train, valid, test), \n",
        "    batch_size = BATCH_SIZE,\n",
        "    sort_within_batch=False,\n",
        "    sort_key = lambda x: len(x.text_clean),\n",
        "    device = device)"
      ],
      "metadata": {
        "execution": {
          "iopub.status.busy": "2021-07-16T13:41:52.668126Z",
          "iopub.execute_input": "2021-07-16T13:41:52.668457Z",
          "iopub.status.idle": "2021-07-16T13:41:52.677508Z",
          "shell.execute_reply.started": "2021-07-16T13:41:52.668427Z",
          "shell.execute_reply": "2021-07-16T13:41:52.676568Z"
        },
        "trusted": true,
        "id": "JNeSx90aWYp-"
      },
      "execution_count": 53,
      "outputs": []
    },
    {
      "cell_type": "markdown",
      "source": [
        "# <center><span style=\"font-family:cursive;\"> Simple 2 layer LSTM model to train </span></center>"
      ],
      "metadata": {
        "id": "DM--zdLRWYp-"
      }
    },
    {
      "cell_type": "code",
      "source": [
        "import torch.nn as nn\n",
        "\n",
        "class SentimentRNN(nn.Module):\n",
        "    \n",
        "    def __init__(self,corpus_size,output_size,embedd_dim,hidden_dim,n_layers):\n",
        "        super().__init__()\n",
        "        self.output_size = output_size\n",
        "        self.n_layers = n_layers\n",
        "        self.hidden_dim = hidden_dim\n",
        "        \n",
        "        self.embedding = nn.Embedding(corpus_size,embedd_dim)\n",
        "        self.lstm = nn.LSTM(embedd_dim, hidden_dim,n_layers,dropout=0.5, batch_first=True)\n",
        "        self.dropout = nn.Dropout(0.3)\n",
        "        self.fc = nn.Linear(hidden_dim,output_size)\n",
        "        self.act = nn.Sigmoid()\n",
        "        \n",
        "    def forward(self,x,hidden):\n",
        "        batch_size = x.size(0)\n",
        "        embeds = self.embedding(x)\n",
        "        lstm_out, hidden = self.lstm(embeds,hidden)\n",
        "        lstm_out = lstm_out.contiguous().view(-1,self.hidden_dim)\n",
        "        out = self.dropout(lstm_out)\n",
        "        out = self.fc(out)\n",
        "        out = self.act(out)\n",
        "        out = out.view(batch_size,-1)\n",
        "        out = out[:,-3:]\n",
        "        return out\n",
        "    def init_hidden(self,batch_size):\n",
        "        \n",
        "        weight = next(self.parameters()).data\n",
        "        hidden = (weight.new(self.n_layers, batch_size, self.hidden_dim).zero_(),\n",
        "                   weight.new(self.n_layers, batch_size, self.hidden_dim).zero_())\n",
        "        #print(weight.new(self.n_layers, batch_size, self.hidden_dim).zero_().shape ,weight.new(self.n_layers, batch_size, self.hidden_dim).zero_().shape )\n",
        "        return hidden"
      ],
      "metadata": {
        "execution": {
          "iopub.status.busy": "2021-07-16T13:41:52.678962Z",
          "iopub.execute_input": "2021-07-16T13:41:52.679257Z",
          "iopub.status.idle": "2021-07-16T13:41:52.691640Z",
          "shell.execute_reply.started": "2021-07-16T13:41:52.679229Z",
          "shell.execute_reply": "2021-07-16T13:41:52.690446Z"
        },
        "trusted": true,
        "id": "24WmbGdBWYp-"
      },
      "execution_count": 54,
      "outputs": []
    },
    {
      "cell_type": "code",
      "source": [
        "INPUT_DIM = len(TEXT.vocab)\n",
        "EMBEDDING_DIM = 100\n",
        "HIDDEN_DIM = 256\n",
        "OUTPUT_DIM = 3\n",
        "n_layers = 2\n",
        "model  = SentimentRNN(INPUT_DIM, OUTPUT_DIM,  EMBEDDING_DIM, HIDDEN_DIM,n_layers)\n",
        "#model = RNN(INPUT_DIM, EMBEDDING_DIM, HIDDEN_DIM, OUTPUT_DIM)"
      ],
      "metadata": {
        "execution": {
          "iopub.status.busy": "2021-07-16T13:41:52.692812Z",
          "iopub.execute_input": "2021-07-16T13:41:52.693091Z",
          "iopub.status.idle": "2021-07-16T13:41:52.732249Z",
          "shell.execute_reply.started": "2021-07-16T13:41:52.693064Z",
          "shell.execute_reply": "2021-07-16T13:41:52.731190Z"
        },
        "trusted": true,
        "id": "1pa8SYLbWYp_"
      },
      "execution_count": 55,
      "outputs": []
    },
    {
      "cell_type": "code",
      "source": [
        "def count_parameters(model):\n",
        "    return sum(p.numel() for p in model.parameters() if p.requires_grad)\n",
        "\n",
        "print(f'The model has {count_parameters(model):,} trainable parameters')"
      ],
      "metadata": {
        "execution": {
          "iopub.status.busy": "2021-07-16T13:41:52.733479Z",
          "iopub.execute_input": "2021-07-16T13:41:52.733746Z",
          "iopub.status.idle": "2021-07-16T13:41:52.740813Z",
          "shell.execute_reply.started": "2021-07-16T13:41:52.733720Z",
          "shell.execute_reply": "2021-07-16T13:41:52.739924Z"
        },
        "trusted": true,
        "id": "9t1nxrzdWYp_",
        "outputId": "7cd6cc3b-00d0-4129-c70e-9a67af371863",
        "colab": {
          "base_uri": "https://localhost:8080/"
        }
      },
      "execution_count": 56,
      "outputs": [
        {
          "output_type": "stream",
          "name": "stdout",
          "text": [
            "The model has 2,324,799 trainable parameters\n"
          ]
        }
      ]
    },
    {
      "cell_type": "code",
      "source": [
        "import torch.optim as optim\n",
        "\n",
        "optimizer = optim.SGD(model.parameters(), lr=1e-3)"
      ],
      "metadata": {
        "execution": {
          "iopub.status.busy": "2021-07-16T13:41:52.742277Z",
          "iopub.execute_input": "2021-07-16T13:41:52.742652Z",
          "iopub.status.idle": "2021-07-16T13:41:52.751619Z",
          "shell.execute_reply.started": "2021-07-16T13:41:52.742621Z",
          "shell.execute_reply": "2021-07-16T13:41:52.750597Z"
        },
        "trusted": true,
        "id": "39Z1k3z7WYp_"
      },
      "execution_count": null,
      "outputs": []
    },
    {
      "cell_type": "code",
      "source": [
        "#criterion = nn.CrossEntropyLoss()\n",
        "\n",
        "#criterion =nn.NLLLoss()\n",
        "def criterion(input, target, size_average=True):\n",
        "    \"\"\"Categorical cross-entropy with logits input and one-hot target\"\"\"\n",
        "    l = -(target * torch.log(F.softmax(input, dim=1) + 1e-10)).sum(1)\n",
        "    if size_average:\n",
        "        l = l.mean()\n",
        "    else:\n",
        "        l = l.sum()\n",
        "    return l"
      ],
      "metadata": {
        "execution": {
          "iopub.status.busy": "2021-07-16T13:41:52.753221Z",
          "iopub.execute_input": "2021-07-16T13:41:52.753638Z",
          "iopub.status.idle": "2021-07-16T13:41:52.762429Z",
          "shell.execute_reply.started": "2021-07-16T13:41:52.753591Z",
          "shell.execute_reply": "2021-07-16T13:41:52.761336Z"
        },
        "trusted": true,
        "id": "hiKNfKiBWYp_"
      },
      "execution_count": null,
      "outputs": []
    },
    {
      "cell_type": "markdown",
      "source": [
        "# <center><span style=\"font-family:cursive;\"> Training model and checking accuracy and loss</span></center>"
      ],
      "metadata": {
        "id": "RPjXiCc4WYp_"
      }
    },
    {
      "cell_type": "code",
      "source": [
        "\n",
        "#print(h)\n",
        "def traindef(epochs, model, optimizer, criterion, train_iterator, valid_iterator):\n",
        "    for epoch in range(1, epochs+1):\n",
        "     \n",
        "        training_loss = 0.0\n",
        "        valid_loss = 0.0\n",
        "        train_acc=0.0\n",
        "        valid_acc = 0.0\n",
        "        model.train()\n",
        "        \n",
        "        for batch_idx , batch in enumerate(train_iterator):\n",
        "            gc.collect()\n",
        "            h=model.init_hidden(BATCH_SIZE)\n",
        "            h = tuple([each.data for each in h])\n",
        "            if batch.text_clean.shape[1] != BATCH_SIZE:\n",
        "                break\n",
        "            optimizer.zero_grad()\n",
        "            predict = model(batch.text_clean.permute(1,0) ,h)\n",
        "            labels=torch.nn.functional.one_hot(batch.label, num_classes=3)\n",
        "            loss = criterion(predict,labels)\n",
        "            loss.backward()\n",
        "            optimizer.step()\n",
        "            training_loss += loss.cpu().detach().numpy()\n",
        "            train_acc += (predict.argmax(dim=1) == labels.argmax(dim=1)).float().mean()\n",
        "        training_loss /= len(train_iterator)\n",
        "        train_acc/= len(train_iterator)\n",
        " \n",
        "        best_valid_loss = float('inf') \n",
        "        \n",
        "        model.eval()\n",
        "        for batch_idx,batch in enumerate(valid_iterator): \n",
        "            h=model.init_hidden(BATCH_SIZE)\n",
        "            h = tuple([each.data for each in h])\n",
        "            if batch.text_clean.shape[1] != BATCH_SIZE:\n",
        "                break\n",
        "            predict = model(batch.text_clean.permute(1,0),h)\n",
        "            labels=torch.nn.functional.one_hot(batch.label, num_classes=3)\n",
        "            loss = criterion(predict,labels)\n",
        "            valid_loss += loss.cpu().detach().numpy()\n",
        "            valid_acc += (predict.argmax(dim=1) == labels.argmax(dim=1)).float().mean()\n",
        " \n",
        "        valid_loss /= len(valid_iterator)\n",
        "        valid_acc/= len(valid_iterator)\n",
        "        if valid_loss < best_valid_loss:\n",
        "            best_valid_loss = valid_loss\n",
        "            torch.save(model.state_dict(), 'tut1-model.pt')\n",
        "        #print('Epoch: {}, Training Loss: {:.2f}, Validation Loss: {:.2f}'.format(epoch, training_loss, valid_loss))\n",
        "        print(f'Epoch: {epoch}')\n",
        "        print(f'\\tTrain Loss: {training_loss:.3f} | Train Acc: {train_acc*100:.2f}%')\n",
        "        print(f'\\t Val. Loss: {valid_loss:.3f} |  Val. Acc: {valid_acc*100:.2f}%')"
      ],
      "metadata": {
        "execution": {
          "iopub.status.busy": "2021-07-16T14:16:13.183546Z",
          "iopub.execute_input": "2021-07-16T14:16:13.183894Z",
          "iopub.status.idle": "2021-07-16T14:16:13.198449Z",
          "shell.execute_reply.started": "2021-07-16T14:16:13.183865Z",
          "shell.execute_reply": "2021-07-16T14:16:13.197626Z"
        },
        "trusted": true,
        "id": "bq_AOmL9WYp_"
      },
      "execution_count": null,
      "outputs": []
    },
    {
      "cell_type": "code",
      "source": [
        "traindef(5, model, optimizer, criterion, train_iterator, valid_iterator)"
      ],
      "metadata": {
        "execution": {
          "iopub.status.busy": "2021-07-16T14:16:16.284072Z",
          "iopub.execute_input": "2021-07-16T14:16:16.284665Z",
          "iopub.status.idle": "2021-07-16T14:17:15.213792Z",
          "shell.execute_reply.started": "2021-07-16T14:16:16.284613Z",
          "shell.execute_reply": "2021-07-16T14:17:15.212683Z"
        },
        "trusted": true,
        "id": "QujkDoKrWYqA",
        "outputId": "d079eef6-7f9b-48d9-f913-5b4498dfb09c"
      },
      "execution_count": null,
      "outputs": [
        {
          "name": "stdout",
          "text": "Epoch: 1\n\tTrain Loss: 0.535 | Train Acc: 30.40%\n\t Val. Loss: 1.033 |  Val. Acc: 58.06%\nEpoch: 2\n\tTrain Loss: 0.267 | Train Acc: 15.27%\n\t Val. Loss: 1.033 |  Val. Acc: 58.06%\nEpoch: 3\n\tTrain Loss: 0.877 | Train Acc: 50.14%\n\t Val. Loss: 1.032 |  Val. Acc: 58.06%\nEpoch: 4\n\tTrain Loss: 0.515 | Train Acc: 29.19%\n\t Val. Loss: 1.032 |  Val. Acc: 58.06%\nEpoch: 5\n\tTrain Loss: 0.591 | Train Acc: 32.98%\n\t Val. Loss: 1.032 |  Val. Acc: 58.06%\n",
          "output_type": "stream"
        }
      ]
    },
    {
      "cell_type": "code",
      "source": [
        "model.load_state_dict(torch.load('tut1-model.pt'))"
      ],
      "metadata": {
        "execution": {
          "iopub.status.busy": "2021-07-16T14:17:41.074709Z",
          "iopub.execute_input": "2021-07-16T14:17:41.075159Z",
          "iopub.status.idle": "2021-07-16T14:17:41.086903Z",
          "shell.execute_reply.started": "2021-07-16T14:17:41.075107Z",
          "shell.execute_reply": "2021-07-16T14:17:41.086081Z"
        },
        "trusted": true,
        "id": "WO7TzjdVWYqA",
        "outputId": "4fbf7887-b5e4-4db7-a32d-116ed39bb282"
      },
      "execution_count": null,
      "outputs": [
        {
          "execution_count": 47,
          "output_type": "execute_result",
          "data": {
            "text/plain": "<All keys matched successfully>"
          },
          "metadata": {}
        }
      ]
    },
    {
      "cell_type": "code",
      "source": [
        "model.eval()\n",
        "test_loss=0.0\n",
        "test_acc=0.0\n",
        "for batch_idx,batch in enumerate(test_iterator): \n",
        "    h=model.init_hidden(BATCH_SIZE)\n",
        "    h = tuple([each.data for each in h])\n",
        "    if batch.text_clean.shape[1] != BATCH_SIZE:\n",
        "        break\n",
        "    predict = model(batch.text_clean.permute(1,0),h)\n",
        "    labels=torch.nn.functional.one_hot(batch.label, num_classes=3)\n",
        "    loss = criterion(predict,labels)\n",
        "    test_loss += loss.cpu().detach().numpy()\n",
        "    test_acc += (predict.argmax(dim=1) == labels.argmax(dim=1)).float().mean()\n",
        "\n",
        "test_loss /= len(test_iterator)\n",
        "test_acc/= len(test_iterator)\n",
        "print(f'Test Loss: {test_loss:.3f} | Test Acc: {test_acc*100:.2f}%')"
      ],
      "metadata": {
        "execution": {
          "iopub.status.busy": "2021-07-16T14:17:42.396779Z",
          "iopub.execute_input": "2021-07-16T14:17:42.397346Z",
          "iopub.status.idle": "2021-07-16T14:17:43.048400Z",
          "shell.execute_reply.started": "2021-07-16T14:17:42.397256Z",
          "shell.execute_reply": "2021-07-16T14:17:43.047328Z"
        },
        "trusted": true,
        "id": "_596zW5bWYqA",
        "outputId": "00eb5ad2-beb8-4106-9d6d-504f3443e18f"
      },
      "execution_count": null,
      "outputs": [
        {
          "name": "stdout",
          "text": "Test Loss: 1.032 | Test Acc: 57.89%\n",
          "output_type": "stream"
        }
      ]
    },
    {
      "cell_type": "code",
      "source": [
        ""
      ],
      "metadata": {
        "id": "xIR84vNYWYqA"
      },
      "execution_count": null,
      "outputs": []
    }
  ]
}